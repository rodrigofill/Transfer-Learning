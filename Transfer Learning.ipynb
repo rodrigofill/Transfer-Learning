{
 "cells": [
  {
   "cell_type": "markdown",
   "metadata": {},
   "source": [
    "# Transfer Learning:"
   ]
  },
  {
   "cell_type": "markdown",
   "metadata": {},
   "source": [
    "&emsp;O objetivo deste notebook é apresentar o tema transfer learning, assim como mostrar exemplos prático de como fazer e quais as vantagens relacionadas ao seu uso. As informações e exemplos são livremente adaptados deste excelente post no [Medium](https://towardsdatascience.com/a-comprehensive-hands-on-guide-to-transfer-learning-with-real-world-applications-in-deep-learning-212bf3b2f27a)."
   ]
  },
  {
   "cell_type": "markdown",
   "metadata": {},
   "source": [
    "### Introdução"
   ]
  },
  {
   "cell_type": "markdown",
   "metadata": {},
   "source": [
    "&emsp;Redes neurais, assim como *deep learning*, são temas em alta quando o assunto é ***machine learning*** no mundo atual. Na realidade *machine learning* é um dos temas mais tratados em técnologia, sendo *Transfer Learning*, talvez, uma das motrizes mais importantes em impulsionar o desenvolvimento de *deep learning*, e para falar sobre um tema tão importante e complexo, primeiro precisamos elucidar um pouco os temas citados anteriormente.\n",
    "\n",
    "&emsp;Redes neurais são algoritmos de aprendizado por máquina que buscam mimetizar o comportamento do cérebro humano, afinal com eles buscamos fazer com que o computador aprenda uma determinada tarefa. Neste âmbito faz sentido falar em fazer o computador aprender à semelhança do que ocorre no processo de aprendizado realizado por nosso sistema nervoso constantemente, desde antes de nascermos. Esta é a função dos algoritmos de redes neurais, que hoje já evoluiram enormemente, estando disponíveis diversas arquiteturas diferentes: Convolucionais, recorrentes, memórias de longo e curto prazo, etc.\n",
    "\n",
    "&emsp;O termo *deep learning* é utilizado para se referir à estruturas de redes neurais profundas, como o próprio nome diz. Redes profundas são aquelas dotadas de muitas camadas e, mais simplificadamente, dotadas de muitos parâmetros treináveis. Estes parâmetros são efetivamente o que é desejado que uma rede aprenda, parâmetros corretos de uma rede neural podem levá-la a níveis de generalização que uma pessoa não consegue. O grande problema de termos muitos destes parâmetros está no fato que quanto mais profunda a rede, maior é a demanda computacional de processamento e de quantidade de dados na base para realizar o treinamento. Em poucas palavras, uma rede profunda tem capacidade maior de aprendizado, mas em troca custa muito, é dificimente acessível com os computadores que temos em casa atualmente e precisa de quantidades realmente grandes de dados. \n",
    "\n",
    "&emsp;Dentro deste contexto de dificuldade associada ao treino de redes muito complexas que existem redes deste tipo treinadas por gigantes corporações que detem recursos financeiros, tecnológicos e de informação, por exemplo a Google, Microsoft e Facebook, para realizar o dispendioso processo de treinamento. Estas redes estão disponíveis online para quem quiser testá-las e utilizá-las para seus próprios projetos. Surgem a partir destas a ideia de utilizar elas como parte do aprendizado de outras redes que desempenham tarefas diferentes, mas para explicar isso melhor vamos a um exemplo.\n",
    "\n",
    "&emsp;O nosso sistema nervoso sabe transferir o aprendizado entre tarefas, afinal de contas não aprendemos sempre do zero, tudo que aprendemos em nossa vida é utilizado como base para a construção de novos aprendizados. Vamos pensar em andar de bicicleta, é importante ter noções básicas de equilíbrio que nos ajudam a aprender como se manter em cima de uma, sem cair, podendo finalmente abrir mão das rodinhas. Imagine agora este mesmo indivíduo que aos 8 anos aprendeu a andar de bicicleta, aos 20 resolve tirar carta e aprender a andar de moto, o cérebro dele não irá começar do zero a aprender como se equilibrar em cima de moto, certo? Ele já sabe andar de bicicleta e, salvas devidas proporções, muito do que ele aprendeu aos 8 anos será utilizado agora para que ele aprenda a andar em uma motocicleta. \n",
    "\n",
    "&emsp;Esse é o objetivo do *trasnfer learning*, proporcionar que um projeto nosso com tarefa ou base de dados parecida com uma rede já treinada possa se aproveitar dos parâmetros já definidos desta. Assumimos vários destes parâmetros como nossos em nossa rede. Agora é possível realizar esse treinamento em casa, sem deter grande quantidade de poder computacional ou de uma base de dados enorme, simplesmente pelo fato que daquela grande quantidade de parâmetros treinaveis que um modelo de deeplearning possui, uma boa parte, será importada desta outra rede, deixando para nosso computador e nossa base de dados treinar apenas uma pequena parte da rede. Este processo, além de tornar tudo muito mais veloz, é capaz de aumentar significativamente o desempenho do modelo, como veremos mais à frente.\n",
    "\n",
    "&emsp;Qual parte da rede especificamente será discutido mais adiante, mas é importante compreender estes conceitos, para tanto seguem aqui algumas imagens que ilustram o que foi explorado na explicação acima.\n",
    "\n",
    "<img src=\"https://miro.medium.com/max/1838/1*9GTEzcO8KxxrfutmtsPs3Q.png\">\n",
    "\n",
    "<img src = \"https://miro.medium.com/max/1400/1*Ww3AMxZeoiB84GVSRBr4Bw.png\">\n",
    "\n",
    "Fonte: [Medium](https://towardsdatascience.com/a-comprehensive-hands-on-guide-to-transfer-learning-with-real-world-applications-in-deep-learning-212bf3b2f27a)\n",
    "\n",
    "\n"
   ]
  },
  {
   "cell_type": "markdown",
   "metadata": {},
   "source": [
    "### Definições formais"
   ]
  },
  {
   "cell_type": "markdown",
   "metadata": {},
   "source": [
    "&emsp;Vamos definir formalmente o conceito de *transfer learning*, se você não se adaptar bem à esta parte, por conta das definições um pouco mais matemáticas, recomendo que se esforçe e busque pesquisar e seguir os links, pois é importante para a compreenção adiante do tema.\n",
    "\n",
    "&emsp;Pois bem, esta definição é dada por Pan e Yang no seguinte [Paper](https://ieeexplore.ieee.org/document/5288526). Baseada altamente em conceitos de domínio, tarefa e probabilidades marginais da matemática, tarefa é um pouco mais intuitivo, mas se o leitor não estiver familiarizado com os outros conceitos, temos alguns links que podem ajudar a exclarecer um pouco, respectivamente: [domínio](https://pt.wikipedia.org/wiki/Dom%C3%ADnio_(matem%C3%A1tica)) e [probabilidade marginal](https://pt.wikipedia.org/wiki/Distribui%C3%A7%C3%A3o_marginal). Dados os *disclaimers* vamos às definições:\n",
    ">Um domínio **D** definido como uma tupla de dois elementos, consistindo de um espaço de *features* **$\\chi$** e uma probabilidade marginal **$P(X)$**, onde **X** é uma amostra dos dados. Assim vamos definir o a seguinte relação: **$D = \\{\\chi, P(X)\\}$**.\n",
    ">>Lembrando que: **$P(X), X = \\{x_1,x_2,...,x_n\\}, x_i \\in \\chi$**\n",
    "\n",
    ">Uma tarefa **$T$** é definida também como uma tupla, mas do espaço de *labels*, **$\\gamma$**, e de uma função objetiva **$\\eta$**. Esta função será definida probabilisticamente como: **$\\eta = P(Y \\mid X)$**. Assim temos que a tarefa **$T = \\{\\gamma, \\eta\\} = \\{\\gamma, P(Y \\mid X)\\}$**.\n",
    ">>Neste caso: **$Y = \\{y_1,y_2,...,y_n\\}, y_i \\in \\gamma$**\n",
    "\n",
    "&emsp;Nesta definição acho que vale uma breve explicação, a função objetiva é preditiva, probabilidade de **Y** dado **X**, que aprendeu a partir dos pares correspondentes de *features* e *labels*, $(x_i,y_i),\\; x_i \\in \\chi \\; ; y_i \\in \\gamma$.\n",
    "\n",
    "&emsp;Assim podemos finalmente definir *transfer learning*, a partir da definição e do completíssimo *post* de Sebastian Ruder aqui:[\n",
    "Transfer Learning - Machine Learning's Next Frontier](https://ruder.io/transfer-learning/), então bora lá:\n",
    "\n",
    ">Dado um domínio fonte: **$D_f$** e uma tarefa fonte associada à este domínio, **$T_f$**. E dado um domínio alvo **$D_a$**, com uma tarefa alvo associada, **$T_a$**. O objetivo do *transfer learning* é habilitar o aprendizado da função objetiva alvo, **$P(X_a \\mid Y_a)$**, por meio das informações obtidas a partir de **$D_f$** e **$T_f$**, claro que **$D_f \\ne D_a$** e **$T_f \\ne T_a$**.\n"
   ]
  },
  {
   "cell_type": "markdown",
   "metadata": {},
   "source": [
    "### Cenários de *Transfer Learning*"
   ]
  },
  {
   "cell_type": "markdown",
   "metadata": {},
   "source": [
    "&emsp;Agora que o leitor já tem completo conhecimento da ideia, além da definição formal do tema, vamos falar um pouco mais sobre os possíveis cenários que você pode encontrar ao lidar com uma abordagem de *TL* no seu dia-a-dia. Dadas as definições acima, elas refletem imposição de diferenças entre os elementos das duas tuplas definidas anteriormente.\n",
    "\n",
    ">**$\\chi_f \\ne \\chi_a$**: O espaço de *features* é diferente. Um exemplo bem exagerado para este cenário, no âmbito da classificação de imagens, é quando temos uma domínio fonte que classifica cães, então ele busca *features* como patas, orelhas, fucinho, etc, e o domínio alvo é classificativo de carros, temos então características como rodas, vidros, portas, entre outros. \n",
    "\n",
    ">**$P(X_f) \\ne P(X_a)$**: A probabilidade marginal entre os domínios é diferente, assim quando as redes são treinadas para cenários distintos em termos de quantidades de features a serem extraidas para classificação. Geralmente conhecido como *domain adaptation*.\n",
    "\n",
    ">**$\\gamma_f \\ne \\gamma_a$**: Aqui o espaço de *labels* da fonte e alvo são diferentes, este é o típico cenário que dificilmente ocorre isoladamente, geralmente quando este acontece, tambem acontece o próximo, visto que é raro que dois modelos apresentem diferentes apresentem probabilidades condicionais semelhantes enquanto os espaços de *labels* são distintos.\n",
    "\n",
    ">**$P(X_f \\mid Y_f) \\ne P(X_a \\mid Y_a)$**: O último cenário é o já spoilado no item anterior, quando as probabilidades condiçionais são diferentes entre domínios, isto é, alvo e fonte possuem base de dados desbalanceadas internamente. Essa ideia faz referência à casos bastante comuns na prática como *undersampling* ou *oversampling*. \n"
   ]
  },
  {
   "cell_type": "markdown",
   "metadata": {},
   "source": [
    "### ***Confusing Domain***"
   ]
  },
  {
   "cell_type": "markdown",
   "metadata": {},
   "source": [
    "&emsp;Antes de tratarmos de conceitos mais práticos e aplicaveis relacionados ao tema, acho interessante introduzir brevemente um conceito mais avançado de *transfer learning* com o objetivo de fundamentar melhor a argumentação que esta é uma área com o potencial de avançar o desenvolvimento de aprendizagem de máquina, que vai muito além de dar um *import* no *TensorFlow* ou no *PyTorch*."
   ]
  },
  {
   "cell_type": "markdown",
   "metadata": {},
   "source": [
    "&emsp;***Confusing Domain*** é um dos conceitos mais interessantes desenvolvidos em TL, ao meu ver, e consiste em fazer o processo de selecionar uma rede com um domínio fonte e um domínio alvo que deseja-se realizar uma tarefa de classificação. A ideia do método é similarizar ambos domínios, de forma que a rede não consiga distinguir bem entre ambos, ou seja, fazer a rede confundir os domínios. Efetivamente isto significa adicionar um objetivo novo à rede, sem apagar o anterior para o qual ela já foi treinada.\n",
    "\n",
    "&emsp;Assumindo um pouco de conhecimento de funcionamento de redes neurais, que caso o leitor não esteja familiarizado bem, pode buscar este conhecimento aqui: [Redes Neurais | Teoria](https://medium.com/turing-talks/turing-talks-19-modelos-de-predi%C3%A7%C3%A3o-redes-neurais-1f165583a927). Como temos dois domínios, dois objetivos, é assumível também que teremos duas funções de custo e dois gradientes sendo propagados de volta na rede, o novo gradiente associado ao domínio inserido, porém, será propagado com valor invertido, da seguinte forma:\n",
    "\n",
    "<img src = \"https://ruder.io/content/images/2017/03/confusing_domains_with_gradient_reversal_layer.png\">\n",
    "\n",
    "Fonte: [Sebastian Ruder](https://ruder.io/transfer-learning/)\n",
    "\n",
    "&emsp;Efetivamente o que acontece na imagem é que ao inverter o valor do gradiente teremos uma rede que ao invés de minimizar a função de custo, irá maximizá-la. Na prática ao fazer este processo o modelo aprende novas representações que diminui as tarefas fonte, sem permitir que o modelo consiga diferenciar entre ambas, que é benéfico para o processo de transferência de aprendizado. Vamos à um exemplo que ilustra este procedimento:\n",
    "\n",
    "<img src = \"https://ruder.io/content/images/2017/03/domain_confusion_tzeng.png\">\n",
    "\n",
    "Fonte: [Sebastian Ruder](https://ruder.io/transfer-learning/)\n",
    "\n",
    "&emsp;Claramente no primeiro caso a rede é capaz de separar ambas as tarefas, já no segundo gráfico não é possível fazer a diferenciação devido à sobreposição de ambas."
   ]
  },
  {
   "cell_type": "markdown",
   "metadata": {},
   "source": [
    "### Casos de *Trasfer Learning*"
   ]
  },
  {
   "cell_type": "markdown",
   "metadata": {},
   "source": [
    "&emsp;Já falei muito sobre TL, dei definições formais, cenários diferentes, mas vamos para uma parte mais prática agora, como eu faço isso de fato? Pra cada caso elencado acima, como eu faço? O que eu deveria deixar fixo? O que eu deveria treinar? Bem vamos responder a todas essas perguntar agora. Primeiramente segue uma imagem que sumariza tudo que vou dizer:\n",
    "\n",
    "<img src = \"https://miro.medium.com/max/1222/1*mEHO0-LifV7MgwXSpY9wyQ.png\">\n",
    "\n",
    "Fonte: [Medium](https://towardsdatascience.com/a-comprehensive-hands-on-guide-to-transfer-learning-with-real-world-applications-in-deep-learning-212bf3b2f27a)\n",
    "\n",
    "Vamos elencar os casos de transferência de aprendizado com base na imagem e nas definições:\n",
    "\n",
    ">***Transfer Learning Indutivo***: Neste primeiro caso temos que os domínios fonte e alvo são semelhantes, ou pelo menos análogos, enquanto as tarefas são diferentes. Assim o modelo tenta se aproveitar dos vieses presentes na fonte. Um exemplo pode ser de uma rede especializada em identificar cachorros em uma foto pode ser usada para classificar cachorros a partir de sua raça, o domínio é o mesmo, ou semelhante, cachorro, mas a tarefa de classificação não é. Pela imagem é possível ver que há mais subclassificações, dependendo se o domínio possui ou não *labels*, *multitask* e *self-taught learning*.\n",
    "\n",
    ">***Transfer Learning Transdutivo***: No segundo caso temos o exato oposto ao primeiro, aqui as tarefas fonte e alvo são iguais, porém os respectivos domínios são diferentes. Este problema se aplica constantemente em desafios de reconhecimento de objetos, por exemplo, imagine uma rede treinada em reconhecer cães, por outro lado nossa tarefa alvo é o reconhecimento de gatos, reconhecimento é o mesmo em ambas as tarefas, mas o domínio é diferente, já que: $Cão \\ne Gato$ , apesar de que...\n",
    "<img src = https://miro.medium.com/max/875/1*mHTXSibh4teRnxnNatmXmQ.png>\n",
    "Fonte: [Medium 2](https://medium.com/voice-tech-podcast/how-intelligent-is-ai-7ed574b02c2b)\n",
    "\n",
    ">***Transfer Learning Não Supervisionado***: Aqui temos um terceiro caso que difere dos outros dois, mas é mais semelhante ao primeiro que ao segundo. Este é o caso quando os *labels* não estão disponíveis tanto para os domínios alvo e fonte. Mas é semelhante ao primeiro no sentido que aqui também os domínios fonte e alvo são semelhantes, enquanto as tarefas são diferentes.\n",
    "\n",
    "\n"
   ]
  },
  {
   "cell_type": "markdown",
   "metadata": {},
   "source": [
    "### Estratégias de abordagem"
   ]
  },
  {
   "cell_type": "markdown",
   "metadata": {},
   "source": [
    "&emsp;A ideia desta seção é mostrar algumas das abordagens mais utilizadas para treinar seus modelos a partir da transferência de aprendizado. Estas estratégias são baseadas altamente em modelos de redes neurais convolucionais, além de estarem no contexto de *deep learning*.\n",
    "\n",
    "&emsp;Uma rede neural convolucional, CNN, geralmente tem uma estrutura padrão de montagem, claro que existem variações, mas ao abordar um novo problema é comum o desenvolvimento de uma mesma estrutura, que consiste em: \n",
    "- Camadas convolucionais, alternadas com camadas de *pooling* e ativação\n",
    "- Camadas totalmente conectadas, com ativação.\n",
    "- É possível haver camadas de regularização no meio, mas vamos manter as coisas mais simples por enquanto.\n",
    "\n",
    "&emsp;Se o que eu acabei de falar está em grego para você, leitor, por favor procure dar uma lida neste [artigo](https://medium.com/turing-talks/turing-talks-23-modelos-de-predi%C3%A7%C3%A3o-redes-neurais-convolucionais-d364654a34de) antes de prosseguir. Uma das estratégias consiste em cortar as últimas camadas do modelo, geralmente as *fully-connected*, todas ou parte delas, de forma a utilizar a arquitetura restante como parte do seu modelo alvo, e treinar novas camadas classificativas. Iremos fazer isso na parte prática mais a frente, mas por enquanto veja a ilustração a seguir:\n",
    "\n",
    "<img src = \"https://miro.medium.com/max/1400/1*qfQ3hmHLwApXZBN-A85r8g.png\">\n",
    "\n",
    "Fonte: [Medium](https://towardsdatascience.com/a-comprehensive-hands-on-guide-to-transfer-learning-with-real-world-applications-in-deep-learning-212bf3b2f27a)\n",
    "\n",
    "&emsp;Esta é uma estratégia que faz muito sentido para o primeiro caso exposto anteriormente, ou seja, de *Transfer learning* indutivo, visto que se os domínios são semelhantes, as *features* identificadas pela rede fonte são de interesse para o modelo alvo, enquanto que como as tarefas são distintas, a forma de classificação da rede fonte não é algo interessante para a outra. A partir deste ponto podemos criar novas camadas finais e treiná-las com nossos dados para ajustar a rede à tarefa alvo.\n",
    "\n",
    "&emsp;Esta estratégia é conhecida como \"*Off the shelf features*\", pelo simples motivo que pegamos as features disponíveis na rede fonte e utilizamos elas diretamente em nossa rede alvo, um questionamento bastante pertinente seria o quão bem tal método consegue performar por si só? Bem existem várias tarefas diferentes que podem ser analisadas e discutidas, então eu vou simplesmente colocar este gráfico aqui que sumariza bastante tudo que eu tenho para falar:\n",
    "\n",
    "<img src = \"https://miro.medium.com/max/1400/1*d__1oSbHOSEq6m4bFflE5g.png\">\n",
    "\n",
    "Fonte:[Medium](https://towardsdatascience.com/a-comprehensive-hands-on-guide-to-transfer-learning-with-real-world-applications-in-deep-learning-212bf3b2f27a)\n",
    "\n",
    "&emsp;Bem impressionante não é? Em muitas tarefas o desempenho é próximo, se não igual, à redes treinadas especialmente para aquela *task*. De cara da pra perceber e ressaltar a importância deste método atualmente para o progresso em *machine learning*, estamos falando de desempenhos altíssimos com redes muito simples de serem montadas. Mas já temos um bom resultado nesta estratégia, vamos falar sobre outra. Legal, mas e se quisessemos melhor o desempenho deste modelo ainda mais?\n",
    "\n",
    "&emsp; Vamos abordar um outro tema importante, pode ser considerado uma nova estratégia ou apenas uma continuação da anterior, fica a gosto do freguês, enfim, vamos falar sobre ***Fine Tuning*** ou ajuste fino em tradução livre. A ideia aqui é não só se aproveitar de um modelo fonte, extrair suas camadas finais, mas também treinar alguns de seus parâmetros anteriores, para que eles possam se adaptar um pouco melhor à sua tarefa alvo. Uma abordagem seria \"congelar\" alguns parâmetros mais genéricos, como os referentes às primeiras camadas convolucionais em uma CNN, e ajustar os parâmetros mais específicos, referentes às camadas mais internas. Sem dúvida é uma abordagem que gera um pouco mais de custo e requer um poder computacional maior, mas ainda nada próximo à treinar uma rede inteira com pesos aleatórios. Necessita de mais dados, mas se estes estão disponíveis, pode valer bastante a pena.\n",
    "\n",
    "&emsp;Só uma consideração do que significa \"congelar\" a rede, basicamente á atribuir *learning rates* diferentes para cada camdada da rede, quando congelamos as primeiras camadas, damos à elas $lr = 0$, enquanto que para camadas mais avançadas, $lr > 0$. Mas novamente essa parte \"operacional\" vai ficar mais clara no código."
   ]
  },
  {
   "cell_type": "markdown",
   "metadata": {},
   "source": [
    "### Redes estado da arte"
   ]
  },
  {
   "cell_type": "markdown",
   "metadata": {},
   "source": [
    "&emsp;O leitor talvez esteja se perguntando neste exato momento, mas e quais modelos eu deveria utilizar para fazer o *transfer*? Bem a resposta é simples, você deveria utilizar modelos eficientes, com altos indices de acurácia e outras métricas em variados datasets. Modelos deste tipo geralmente recebem o nome de **Estado da arte** por serem muito bons ou revolucionários em suas tarefas. A ideia por trás de utilizar estes modelos é que por serem tão eficientes, eles possuem uma grande capacidade de generalização. \n",
    "\n",
    "&emsp;Existem várias das redes estado da arte, para diferentes campos de *machine learning*, vou elencar algumas das mais populares para cada área:\n",
    ">Em visão computacional: \n",
    "- [VGG-16](https://www.kaggle.com/keras/vgg16/home)\n",
    "- [VGG-19](https://www.kaggle.com/keras/vgg19/home)\n",
    "- [ResNet-50](https://www.kaggle.com/keras/resnet50/home)\n",
    "\n",
    ">Em Processamento de linguagem natural:\n",
    "- [Word2Vec](https://en.wikipedia.org/wiki/Word2vec)\n",
    "- [Glove](https://nlp.stanford.edu/projects/glove/)\n",
    "\n",
    "&emsp;Estas somente para elencar algumas, existem outras dentro destas áreas e fora. Vou contar um segredo, a parte teórica de tipos de *transfer learning* muitas vezes pode ser ignorada ao fazer um transfer com alguma destas redes, isso porque elas são muito eficientes, treinadas com muitos dados em diversas categorias e por isso sua capacidade de generalização é muito grande, logo pode ser um incremento mesmo em *off the shelf features* mesmo que os domnínios sejam diferentes, por exemplo. Nestes casos o *fine-tuning* gera melhoras consideráveis também."
   ]
  },
  {
   "cell_type": "markdown",
   "metadata": {},
   "source": [
    "## Hands-On"
   ]
  },
  {
   "cell_type": "markdown",
   "metadata": {},
   "source": [
    "&emsp;Finalmente vamos colocar em prática tudo que foi exposto acima, para tal vamos utilizar primeiramente o dataset: [Flowers Recognition](https://www.kaggle.com/alxmamaev/flowers-recognition). Este consiste de um dataset desbalanceado, com 5 classes diferentes, correspondente à diferentes espécies de flores: Rosa, Tulipa, Girassol, Margarida e Dente-de-leão. Algumas das dificuldades de associadas ao uso deste dataset estão na composição das imagens, algumas vezes não ficam muito evidentes as flores, mas no geral é um dataset que consegue-se um desempenho razoável.\n",
    "\n",
    "&emsp;É por essas e outras que vamos utilizar este dataset, ele vem separado em pastas, cada qual com uma espécie apenas. Para começar você vai precisar baixar o dataset no link acima, e de preferência extraí-lo na mesma pasta em que este notebook estiver presente, para que não seja necessário modificar nenhuma linha de código, mas se precisar é onde estiverem os caminhos para os arquivos e pastas."
   ]
  },
  {
   "cell_type": "markdown",
   "metadata": {},
   "source": [
    "### Organizando os arquivos"
   ]
  },
  {
   "cell_type": "markdown",
   "metadata": {},
   "source": [
    "&emsp;Vamos começar importando as bibliotecas necessárias:\n"
   ]
  },
  {
   "cell_type": "code",
   "execution_count": 1,
   "metadata": {},
   "outputs": [],
   "source": [
    "import numpy as np #para trabalhar com vetores\n",
    "import glob\n",
    "import os \n",
    "import shutil\n",
    "import pathlib\n",
    "import os\n",
    "#Estas últimas apenas para tratar de arquivos "
   ]
  },
  {
   "cell_type": "markdown",
   "metadata": {},
   "source": [
    "&emsp;Em seguida vamos tentar facilitar nosso processo de gerar um dataset com base na ideia de dar nome às imagens com base nos labels:\n",
    "\n",
    "Ps: Se você já rodou esse código uma vez não precisa rodar novamente, vai acabar conflitando os arquivos."
   ]
  },
  {
   "cell_type": "code",
   "execution_count": null,
   "metadata": {},
   "outputs": [],
   "source": [
    "dataset_path = '/home/fill/Documentos/Turing/Árvore/Transfer Learning/flowers-recognition'\n",
    "os.chdir(dataset_path)   #Aqui entramos no diretório do dataset\n",
    "class_folders = os.listdir('.') #Pegamos os strings referente aos diretórios referentes a cada classe\n",
    "for class_folder in class_folders: #Loop para varrer cada diretório\n",
    "    i = 1 #Variável auxiliar para nomear as imagens\n",
    "    os.chdir(class_folder) #Entramos no diretório de uma classe\n",
    "    images = os.listdir('.') #Pegamos os strings de cada arquivo de imagem\n",
    "    for image in images: #Loop para varrer as imagens\n",
    "        os.rename(image, class_folder+'.{}'.format(i)+'.jpg') #Renomeamos cada imagem com o nome no formato que queremos\n",
    "        i = i+1 #Atualizamos a variável\n",
    "    os.chdir('..') #Após renomear todas as imagens em um diretório, saimos dele para ir ao próximo"
   ]
  },
  {
   "cell_type": "markdown",
   "metadata": {},
   "source": [
    "&emsp;Vamos agora criar as listas com as imagens de cada classe, a função glob um string com o nome dos arquivos na pasta destino:"
   ]
  },
  {
   "cell_type": "code",
   "execution_count": 1,
   "metadata": {},
   "outputs": [
    {
     "ename": "NameError",
     "evalue": "name 'glob' is not defined",
     "output_type": "error",
     "traceback": [
      "\u001b[0;31m---------------------------------------------------------------------------\u001b[0m",
      "\u001b[0;31mNameError\u001b[0m                                 Traceback (most recent call last)",
      "\u001b[0;32m<ipython-input-1-43eada2143a9>\u001b[0m in \u001b[0;36m<module>\u001b[0;34m\u001b[0m\n\u001b[0;32m----> 1\u001b[0;31m \u001b[0mdaisy_files\u001b[0m \u001b[0;34m=\u001b[0m \u001b[0mglob\u001b[0m\u001b[0;34m.\u001b[0m\u001b[0mglob\u001b[0m\u001b[0;34m(\u001b[0m\u001b[0;34m'/home/fill/Documentos/Turing/Árvore/Transfer Learning/flowers-recognition/daisy/*'\u001b[0m\u001b[0;34m)\u001b[0m\u001b[0;34m\u001b[0m\u001b[0;34m\u001b[0m\u001b[0m\n\u001b[0m\u001b[1;32m      2\u001b[0m \u001b[0mdandelion_files\u001b[0m \u001b[0;34m=\u001b[0m \u001b[0mglob\u001b[0m\u001b[0;34m.\u001b[0m\u001b[0mglob\u001b[0m\u001b[0;34m(\u001b[0m\u001b[0;34m'/home/fill/Documentos/Turing/Árvore/Transfer Learning/flowers-recognition/dandelion/*'\u001b[0m\u001b[0;34m)\u001b[0m\u001b[0;34m\u001b[0m\u001b[0;34m\u001b[0m\u001b[0m\n\u001b[1;32m      3\u001b[0m \u001b[0mrose_files\u001b[0m \u001b[0;34m=\u001b[0m \u001b[0mglob\u001b[0m\u001b[0;34m.\u001b[0m\u001b[0mglob\u001b[0m\u001b[0;34m(\u001b[0m\u001b[0;34m'/home/fill/Documentos/Turing/Árvore/Transfer Learning/flowers-recognition/rose/*'\u001b[0m\u001b[0;34m)\u001b[0m\u001b[0;34m\u001b[0m\u001b[0;34m\u001b[0m\u001b[0m\n\u001b[1;32m      4\u001b[0m \u001b[0msunflower_files\u001b[0m \u001b[0;34m=\u001b[0m \u001b[0mglob\u001b[0m\u001b[0;34m.\u001b[0m\u001b[0mglob\u001b[0m\u001b[0;34m(\u001b[0m\u001b[0;34m'/home/fill/Documentos/Turing/Árvore/Transfer Learning/flowers-recognition/sunflower/*'\u001b[0m\u001b[0;34m)\u001b[0m\u001b[0;34m\u001b[0m\u001b[0;34m\u001b[0m\u001b[0m\n\u001b[1;32m      5\u001b[0m \u001b[0mtulip_files\u001b[0m \u001b[0;34m=\u001b[0m \u001b[0mglob\u001b[0m\u001b[0;34m.\u001b[0m\u001b[0mglob\u001b[0m\u001b[0;34m(\u001b[0m\u001b[0;34m'/home/fill/Documentos/Turing/Árvore/Transfer Learning/flowers-recognition/tulip/*'\u001b[0m\u001b[0;34m)\u001b[0m\u001b[0;34m\u001b[0m\u001b[0;34m\u001b[0m\u001b[0m\n",
      "\u001b[0;31mNameError\u001b[0m: name 'glob' is not defined"
     ]
    }
   ],
   "source": [
    "daisy_files = glob.glob('/home/fill/Documentos/Turing/Árvore/Transfer Learning/flowers-recognition/daisy/*')\n",
    "dandelion_files = glob.glob('/home/fill/Documentos/Turing/Árvore/Transfer Learning/flowers-recognition/dandelion/*')\n",
    "rose_files = glob.glob('/home/fill/Documentos/Turing/Árvore/Transfer Learning/flowers-recognition/rose/*')\n",
    "sunflower_files = glob.glob('/home/fill/Documentos/Turing/Árvore/Transfer Learning/flowers-recognition/sunflower/*')\n",
    "tulip_files = glob.glob('/home/fill/Documentos/Turing/Árvore/Transfer Learning/flowers-recognition/tulip/*')"
   ]
  },
  {
   "cell_type": "markdown",
   "metadata": {},
   "source": [
    "&emsp;Vamos checar quantas imagens temos em cada espécie:"
   ]
  },
  {
   "cell_type": "code",
   "execution_count": 3,
   "metadata": {},
   "outputs": [
    {
     "data": {
      "text/plain": [
       "(769, 1052, 784, 734, 984)"
      ]
     },
     "execution_count": 3,
     "metadata": {},
     "output_type": "execute_result"
    }
   ],
   "source": [
    "len(daisy_files), len(dandelion_files), len(rose_files), len(sunflower_files), len(tulip_files)"
   ]
  },
  {
   "cell_type": "markdown",
   "metadata": {},
   "source": [
    "&emsp;Trata-se de um dataset claramente desbalanceado, é mais uma das dificuldades associadas à este. De qualquer forma, vamos separar as imagens em bases de treino, validação e teste. Usaremos para tal aproximadamente 70% de cada espécie como treino, 15% como validação e 15% como teste. Primeiro vamos apenas separar o treino, lembrando que na função choice é importante definir o replace como **False** para evitar que uma mesma imagem seja escolhida mais de uma vez. Depois precisamos apagar os elementos selecionados da lista geral:"
   ]
  },
  {
   "cell_type": "code",
   "execution_count": 4,
   "metadata": {},
   "outputs": [],
   "source": [
    "daisy_train = np.random.choice(daisy_files, size = 538, replace = False) #Seleciona sem sobrepor\n",
    "daisy_files = list(set(daisy_files) - set(daisy_train))  #Apaga os elementos já selecionados\n",
    "\n",
    "dandelion_train = np.random.choice(dandelion_files, size = 738, replace = False)\n",
    "dandelion_files = list(set(dandelion_files) - set(dandelion_train))\n",
    "\n",
    "rose_train = np.random.choice(rose_files, size = 549, replace = False)\n",
    "rose_files = list(set(rose_files) - set(rose_train))\n",
    "\n",
    "sunflower_train = np.random.choice(sunflower_files, size = 514, replace = False)\n",
    "sunflower_files = list(set(sunflower_files) - set(sunflower_train))\n",
    "\n",
    "tulip_train = np.random.choice(tulip_files, size = 689, replace = False)\n",
    "tulip_files = list(set(tulip_files) - set(tulip_train))"
   ]
  },
  {
   "cell_type": "markdown",
   "metadata": {},
   "source": [
    "&emsp;Verificando então as quantidades restantes:"
   ]
  },
  {
   "cell_type": "code",
   "execution_count": 5,
   "metadata": {},
   "outputs": [
    {
     "data": {
      "text/plain": [
       "(231, 314, 235, 220, 295)"
      ]
     },
     "execution_count": 5,
     "metadata": {},
     "output_type": "execute_result"
    }
   ],
   "source": [
    "len(daisy_files), len(dandelion_files), len(rose_files), len(sunflower_files), len(tulip_files)"
   ]
  },
  {
   "cell_type": "code",
   "execution_count": null,
   "metadata": {},
   "outputs": [],
   "source": []
  },
  {
   "cell_type": "markdown",
   "metadata": {},
   "source": [
    "&emsp;Agora podemos selecionar metade para validação, metade para teste, para cada categoria que temos:"
   ]
  },
  {
   "cell_type": "code",
   "execution_count": 6,
   "metadata": {},
   "outputs": [],
   "source": [
    "daisy_val = np.random.choice(daisy_files, size = 115, replace = False)\n",
    "daisy_test = list(set(daisy_files) - set(daisy_val))\n",
    "\n",
    "dandelion_val = np.random.choice(dandelion_files, size = 158, replace = False)\n",
    "dandelion_test = list(set(dandelion_files) - set(dandelion_val))\n",
    "\n",
    "rose_val = np.random.choice(rose_files, size = 117, replace = False)\n",
    "rose_test = list(set(rose_files) - set(rose_val))\n",
    "\n",
    "sunflower_val = np.random.choice(sunflower_files, size = 110, replace = False)\n",
    "sunflower_test = list(set(sunflower_files) - set(sunflower_val))\n",
    "\n",
    "tulip_val = np.random.choice(tulip_files, size = 147, replace = False)\n",
    "tulip_test = list(set(tulip_files) - set(tulip_val))"
   ]
  },
  {
   "cell_type": "markdown",
   "metadata": {},
   "source": [
    "&emsp;Vamos analisar como ficou composto os datasets referentes a cada uma das classes:"
   ]
  },
  {
   "cell_type": "code",
   "execution_count": 7,
   "metadata": {},
   "outputs": [
    {
     "name": "stdout",
     "output_type": "stream",
     "text": [
      "daisy datasets: 538, 115, 116 imagens\n",
      "dandelion datasets: 738, 158, 156 imagens\n",
      "rose datasets: 549, 117, 118 imagens\n",
      "sunflower datasets: 514, 110, 110 imagens\n",
      "tulip datasets: 689, 147, 148 imagens\n"
     ]
    }
   ],
   "source": [
    "print('daisy datasets: {}, {}, {} imagens'.format(len(daisy_train), len(daisy_val), len(daisy_test)))\n",
    "print('dandelion datasets: {}, {}, {} imagens'.format(len(dandelion_train), len(dandelion_val), len(dandelion_test)))\n",
    "print('rose datasets: {}, {}, {} imagens'.format(len(rose_train), len(rose_val), len(rose_test)))\n",
    "print('sunflower datasets: {}, {}, {} imagens'.format(len(sunflower_train), len(sunflower_val), len(sunflower_test)))\n",
    "print('tulip datasets: {}, {}, {} imagens'.format(len(tulip_train), len(tulip_val), len(tulip_test)))"
   ]
  },
  {
   "cell_type": "markdown",
   "metadata": {},
   "source": [
    "&emsp;Agora que temos uma definição boa de quais imagens estão onde, vamos tratar de carregar o dataset propriamente, afinal strings não são imagens, não pretendemos passar strings para nossa CNN."
   ]
  },
  {
   "cell_type": "markdown",
   "metadata": {},
   "source": [
    "### Montando o dataset"
   ]
  },
  {
   "cell_type": "markdown",
   "metadata": {},
   "source": [
    "&emsp;Vamos trabalhar com imagens no tamanho 100x100 pixels, pelo simples fato de não querer desenvolver e calcular muitos parâmetros treináveis, principalemente em modelos futuros, para ficar mais rápido o processamento. Mas vale dizer que essa decisão não mantém o *aspect ratio* do dataset. Vamos concatenar as listas que criamos anteriormente também, e embaralhar esses vetores, pois concatenar não é embaralhar:"
   ]
  },
  {
   "cell_type": "code",
   "execution_count": 8,
   "metadata": {},
   "outputs": [],
   "source": [
    "img_shape = (100, 100) #Definindo o tamanho das imagens\n",
    "\n",
    "train_files = np.concatenate([daisy_train, dandelion_train, rose_train, sunflower_train, tulip_train])\n",
    "val_files = np.concatenate([daisy_val, dandelion_val, rose_val, sunflower_val, tulip_val])\n",
    "test_files = np.concatenate([daisy_test, dandelion_test, rose_test, sunflower_test, tulip_test])\n",
    "\n",
    "np.random.shuffle(train_files) #Embaralhar os arquivos de treino\n",
    "np.random.shuffle(val_files) #Embaralhar os arquivos de validação\n",
    "np.random.shuffle(test_files) #Embaralhar os arquivos de teste"
   ]
  },
  {
   "cell_type": "markdown",
   "metadata": {},
   "source": [
    "&emsp;Vamos importar algumas bibliotecas importantes para montar o dataset. Trata-se de funções do keras, biblioteca famosa de *deeplearning*, mas poderiamos utilizar métodos de outras bibliotecas:"
   ]
  },
  {
   "cell_type": "code",
   "execution_count": 9,
   "metadata": {},
   "outputs": [
    {
     "name": "stderr",
     "output_type": "stream",
     "text": [
      "Using TensorFlow backend.\n"
     ]
    }
   ],
   "source": [
    "import matplotlib.pyplot as plt #Biblioteca para criar os gráficos de análise\n",
    "from keras.preprocessing.image import ImageDataGenerator, load_img, img_to_array, array_to_img\n",
    "#Funções de processamento de imagens do keras\n",
    "%matplotlib inline"
   ]
  },
  {
   "cell_type": "markdown",
   "metadata": {},
   "source": [
    "&emsp;A seguir precisamos definir algo extremamente importante, os *labels*, o gabarito, sem isso a rede não aprende qual imagem corresponde à qual espécie. Com a manipulação feita anteriormente, em que colocamos o nome das espécies como nome dos arquivos *.jpg*, assim sabemos exatamente à qual classe corresponde cada imagem, vamos ler a imagem, tranformar ela em um array para o computador processar, e vamos ler o nome da mesma, extraíndo a informação do nome da classe:"
   ]
  },
  {
   "cell_type": "code",
   "execution_count": 10,
   "metadata": {},
   "outputs": [
    {
     "name": "stdout",
     "output_type": "stream",
     "text": [
      "Train dataset shape: (3028, 100, 100, 3)\n",
      "Validation dataset shape: (647, 100, 100, 3)\n"
     ]
    }
   ],
   "source": [
    "train_imgs = [img_to_array(load_img(img, target_size=img_shape)) for img in train_files]\n",
    "#Aqui para cada imagem na lista *train_files* salvamos a matriz correspondente usando a função\n",
    "#img_to_array do keras.\n",
    "train_labels = [nome.split('/')[8].strip() for nome in train_files]\n",
    "#Aqui vamos usar o método split() de strings, selecionar o oitavo elemento da lista que ele \n",
    "#retorna, acredite em mim este elemento é o nome da classe, e vamos salvá-lo na lista de labels.\n",
    "\n",
    "#Repetimos o processo para o teste e a validação:\n",
    "val_imgs = [img_to_array(load_img(img, target_size=img_shape)) for img in val_files]\n",
    "val_labels = [nome.split('/')[8].strip() for nome in val_files]\n",
    "\n",
    "train_imgs = np.array(train_imgs)\n",
    "val_imgs = np.array(val_imgs)\n",
    "\n",
    "print('Train dataset shape:', train_imgs.shape)\n",
    "print('Validation dataset shape:', val_imgs.shape)"
   ]
  },
  {
   "cell_type": "markdown",
   "metadata": {},
   "source": [
    "&emsp;Temos um dataset de treino com modestas 3028 imagnes, de tamanho 100x100 pixels e composta de 3 canais, já que vamos trabalhar com imagens RGB. A seguir precisamos normalizar elas, já que as redes convolucionais trabalham melhor com números entre 0 e 1:"
   ]
  },
  {
   "cell_type": "code",
   "execution_count": 11,
   "metadata": {},
   "outputs": [
    {
     "name": "stdout",
     "output_type": "stream",
     "text": [
      "(100, 100, 3)\n"
     ]
    },
    {
     "data": {
      "image/png": "[encoded data removed]",
      "text/plain": [
       "<PIL.Image.Image image mode=RGB size=100x100 at 0x7FDE13E2CD90>"
      ]
     },
     "execution_count": 11,
     "metadata": {},
     "output_type": "execute_result"
    }
   ],
   "source": [
    "train_imgs_scaled = train_imgs.astype('float32')\n",
    "val_imgs_scaled  = val_imgs.astype('float32')\n",
    "train_imgs_scaled /= 255\n",
    "val_imgs_scaled /= 255\n",
    "\n",
    "#Vamos printar uma amostra:\n",
    "print(train_imgs[2].shape)\n",
    "array_to_img(train_imgs[2])"
   ]
  },
  {
   "cell_type": "markdown",
   "metadata": {},
   "source": [
    "### Montando uma CNN básica"
   ]
  },
  {
   "cell_type": "markdown",
   "metadata": {},
   "source": [
    "&emsp;Agora que temos um dataset bem definido, com imagens prontas para serem passadas à uma rede, vamos começar a organizar nosso primeiro modelo de análise: uma CNN pura, sem regularização ou augumentation. Para isso vamos definir o batch_size, o número de classes, as epochs e o formato do imput. Outra coisa que precisamos fazer é converter os labels para um formato que a rede compreenda, ela não entende strings, vamos usar o labelencoder, que vai atribuir numeros para cada classe:"
   ]
  },
  {
   "cell_type": "code",
   "execution_count": 12,
   "metadata": {},
   "outputs": [
    {
     "name": "stdout",
     "output_type": "stream",
     "text": [
      "['daisy', 'sunflower', 'tulip', 'rose', 'tulip', 'rose', 'sunflower', 'sunflower', 'daisy', 'daisy'] [0 3 4 2 4 2 3 3 0 0]\n"
     ]
    }
   ],
   "source": [
    "batch_size = 30\n",
    "num_classes = 5\n",
    "epochs = 10  #Vamos começar com poucas epochs pois sei que é o suficiente neste modelo, sinta-se\n",
    "#a vontade para testar com mais.\n",
    "input_shape = (100, 100, 3)\n",
    "\n",
    "#Importando a biblioteca do sklearn para lidar com as categorias\n",
    "from sklearn.preprocessing import LabelEncoder\n",
    "\n",
    "lb = LabelEncoder()  #Criando o objeto\n",
    "lb.fit(train_labels)  #Fitando ao treino\n",
    "train_labels_enc = lb.transform(train_labels)  #Transforma o treino\n",
    "val_labels_enc = lb.transform(val_labels)  #Transforma a validação\n",
    "\n",
    "#Vamos analisar alguns labels, para ver se está tudo certo:\n",
    "print(train_labels[:10], train_labels_enc[:10])"
   ]
  },
  {
   "cell_type": "markdown",
   "metadata": {},
   "source": [
    "&emsp;Finalmente podemos criar o modelo, vou recomendar importar do tensorflow, mas pode ser do próprio keras se quiser. Vamos definir a rede de forma mais simples possível, com 3 camadas convolucionais, com números crescentes de filtros, ativação relu, mas pode testar com sigmoid, e maxpooling. As fully-conected vamos com uma de 512 categorias, e uma com 5, para classificar. Compilar o modelo com a sparse_categorical_crossentropy:"
   ]
  },
  {
   "cell_type": "code",
   "execution_count": 13,
   "metadata": {},
   "outputs": [
    {
     "name": "stdout",
     "output_type": "stream",
     "text": [
      "Model: \"sequential\"\n",
      "_________________________________________________________________\n",
      "Layer (type)                 Output Shape              Param #   \n",
      "=================================================================\n",
      "conv2d (Conv2D)              (None, 98, 98, 16)        448       \n",
      "_________________________________________________________________\n",
      "max_pooling2d (MaxPooling2D) (None, 49, 49, 16)        0         \n",
      "_________________________________________________________________\n",
      "conv2d_1 (Conv2D)            (None, 47, 47, 64)        9280      \n",
      "_________________________________________________________________\n",
      "max_pooling2d_1 (MaxPooling2 (None, 23, 23, 64)        0         \n",
      "_________________________________________________________________\n",
      "conv2d_2 (Conv2D)            (None, 21, 21, 128)       73856     \n",
      "_________________________________________________________________\n",
      "max_pooling2d_2 (MaxPooling2 (None, 10, 10, 128)       0         \n",
      "_________________________________________________________________\n",
      "flatten (Flatten)            (None, 12800)             0         \n",
      "_________________________________________________________________\n",
      "dense (Dense)                (None, 512)               6554112   \n",
      "_________________________________________________________________\n",
      "dense_1 (Dense)              (None, 5)                 2565      \n",
      "=================================================================\n",
      "Total params: 6,640,261\n",
      "Trainable params: 6,640,261\n",
      "Non-trainable params: 0\n",
      "_________________________________________________________________\n"
     ]
    }
   ],
   "source": [
    "from tensorflow.keras.layers import Conv2D, MaxPooling2D, Flatten, Dense, Dropout\n",
    "from tensorflow.keras.models import Sequential\n",
    "from tensorflow.keras import optimizers\n",
    "\n",
    "model = Sequential()\n",
    "\n",
    "model.add(Conv2D(16, kernel_size=(3, 3), activation='relu', \n",
    "                 input_shape=input_shape))\n",
    "model.add(MaxPooling2D(pool_size=(2, 2)))\n",
    "\n",
    "model.add(Conv2D(64, kernel_size=(3, 3), activation='relu'))\n",
    "model.add(MaxPooling2D(pool_size=(2, 2)))\n",
    "\n",
    "model.add(Conv2D(128, kernel_size=(3, 3), activation='relu'))\n",
    "model.add(MaxPooling2D(pool_size=(2, 2)))\n",
    "\n",
    "model.add(Flatten())\n",
    "model.add(Dense(512, activation='relu'))\n",
    "model.add(Dense(num_classes, activation='sigmoid'))\n",
    "\n",
    "\n",
    "model.compile(loss='sparse_categorical_crossentropy',\n",
    "              optimizer=optimizers.RMSprop(),\n",
    "              metrics=['accuracy'])\n",
    "\n",
    "model.summary()"
   ]
  },
  {
   "cell_type": "markdown",
   "metadata": {},
   "source": [
    "&emsp;Tudo pronto, vamos utilizar o método fit nas imagens escalonadas que criamos,os labels codificados e a validação que temos:"
   ]
  },
  {
   "cell_type": "code",
   "execution_count": 14,
   "metadata": {},
   "outputs": [
    {
     "name": "stdout",
     "output_type": "stream",
     "text": [
      "Train on 3028 samples, validate on 647 samples\n",
      "Epoch 1/10\n",
      "3028/3028 [==============================] - 22s 7ms/sample - loss: 1.3944 - accuracy: 0.3804 - val_loss: 1.1441 - val_accuracy: 0.4822\n",
      "Epoch 2/10\n",
      "3028/3028 [==============================] - 21s 7ms/sample - loss: 1.1056 - accuracy: 0.5294 - val_loss: 1.1581 - val_accuracy: 0.5533\n",
      "Epoch 3/10\n",
      "3028/3028 [==============================] - 22s 7ms/sample - loss: 0.9545 - accuracy: 0.6143 - val_loss: 0.9860 - val_accuracy: 0.6074\n",
      "Epoch 4/10\n",
      "3028/3028 [==============================] - 21s 7ms/sample - loss: 0.8281 - accuracy: 0.6711 - val_loss: 0.9590 - val_accuracy: 0.6244\n",
      "Epoch 5/10\n",
      "3028/3028 [==============================] - 21s 7ms/sample - loss: 0.6966 - accuracy: 0.7292 - val_loss: 1.0352 - val_accuracy: 0.6352\n",
      "Epoch 6/10\n",
      "3028/3028 [==============================] - 21s 7ms/sample - loss: 0.5499 - accuracy: 0.7850 - val_loss: 1.0515 - val_accuracy: 0.6337\n",
      "Epoch 7/10\n",
      "3028/3028 [==============================] - 20s 7ms/sample - loss: 0.4356 - accuracy: 0.8303 - val_loss: 1.1538 - val_accuracy: 0.6182\n",
      "Epoch 8/10\n",
      "3028/3028 [==============================] - 21s 7ms/sample - loss: 0.3204 - accuracy: 0.8818 - val_loss: 1.1815 - val_accuracy: 0.6461\n",
      "Epoch 9/10\n",
      "3028/3028 [==============================] - 22s 7ms/sample - loss: 0.2415 - accuracy: 0.9184 - val_loss: 1.8479 - val_accuracy: 0.5595\n",
      "Epoch 10/10\n",
      "3028/3028 [==============================] - 22s 7ms/sample - loss: 0.1830 - accuracy: 0.9326 - val_loss: 1.4124 - val_accuracy: 0.6445\n"
     ]
    }
   ],
   "source": [
    "history = model.fit(x=train_imgs_scaled, y=train_labels_enc,\n",
    "                    validation_data = (val_imgs_scaled, val_labels_enc),\n",
    "                    batch_size=batch_size,\n",
    "                    epochs=epochs,\n",
    "                    verbose=1)"
   ]
  },
  {
   "cell_type": "markdown",
   "metadata": {},
   "source": [
    "&emsp;Fazendo algo que poderia ter feito antes, mas definindo aqui as imagens do teste:"
   ]
  },
  {
   "cell_type": "code",
   "execution_count": 16,
   "metadata": {},
   "outputs": [
    {
     "name": "stdout",
     "output_type": "stream",
     "text": [
      "Test dataset shape: (648, 100, 100, 3)\n"
     ]
    }
   ],
   "source": [
    "test_imgs = [img_to_array(load_img(img, target_size=img_shape)) for img in test_files]\n",
    "test_labels = [fn.split('/')[8].strip() for fn in test_files]\n",
    "test_imgs = np.array(test_imgs)\n",
    "test_labels_enc = lb.transform(test_labels)\n",
    "test_imgs_scaled = test_imgs.astype('float32')\n",
    "test_imgs_scaled /= 255\n",
    "\n",
    "print('Test dataset shape:', test_imgs.shape)"
   ]
  },
  {
   "cell_type": "markdown",
   "metadata": {},
   "source": [
    "&emsp;Vamos salvar aqui este modelo para analisar posteriormente o teste com os outros modelos:"
   ]
  },
  {
   "cell_type": "code",
   "execution_count": 17,
   "metadata": {},
   "outputs": [],
   "source": [
    "model.save('Modelo_Básico_CNN.h5')"
   ]
  },
  {
   "cell_type": "markdown",
   "metadata": {},
   "source": [
    "&emsp;Vamos plotar o gráfico com o desempenho no treino e na validação do modelo, com o seguinte código retirado do Medium usado como referência:"
   ]
  },
  {
   "cell_type": "code",
   "execution_count": 18,
   "metadata": {},
   "outputs": [
    {
     "data": {
      "image/png": "[encoded data removed]",
      "text/plain": [
       "<Figure size 864x288 with 2 Axes>"
      ]
     },
     "metadata": {
      "needs_background": "light"
     },
     "output_type": "display_data"
    }
   ],
   "source": [
    "f, (ax1, ax2) = plt.subplots(1, 2, figsize=(12, 4))\n",
    "t = f.suptitle('Performance com uma CNN padrão', fontsize=12)\n",
    "f.subplots_adjust(top=0.85, wspace=0.3)\n",
    "\n",
    "epoch_list = list(range(1,11))\n",
    "ax1.plot(epoch_list, history.history['accuracy'], label='Acurácia do treino')\n",
    "ax1.plot(epoch_list, history.history['val_accuracy'], label='Acurácia na validação')\n",
    "ax1.set_xticks(np.arange(0, 11, 2))\n",
    "ax1.set_ylabel('Acurácia')\n",
    "ax1.set_xlabel('Epoch')\n",
    "ax1.set_title('Acurácia')\n",
    "l1 = ax1.legend(loc=\"best\")\n",
    "\n",
    "ax2.plot(epoch_list, history.history['loss'], label='Loss Treino')\n",
    "ax2.plot(epoch_list, history.history['val_loss'], label='Loss Validação')\n",
    "ax2.set_xticks(np.arange(0, 11, 2))\n",
    "ax2.set_ylabel('Valor do Loss')\n",
    "ax2.set_xlabel('Epoch')\n",
    "ax2.set_title('Loss')\n",
    "l2 = ax2.legend(loc=\"best\")\n",
    "\n",
    "ax1.grid()\n",
    "ax2.grid()"
   ]
  },
  {
   "cell_type": "markdown",
   "metadata": {},
   "source": [
    "&emsp;Vemos que a acurácia na validação ficou em torno de 65%, inclusive pela curva é visível que a rede foi à um *overfit* completo. Vamos tentar melhorar um pouco o overfit utilizando algumas técnicas de regularização e augumentation."
   ]
  },
  {
   "cell_type": "markdown",
   "metadata": {},
   "source": [
    "### CNN com regularização e augumentation"
   ]
  },
  {
   "cell_type": "markdown",
   "metadata": {},
   "source": [
    "&emsp;Nesta nova rede vamos utilizar apenas o dropout, adicionar uma nova camada densa eintroduzir mais uma camada de convolução. No import eu até coloquei as funções de Batch Normalization e Gaussian Noise, mas considero que são desnecessários e podem levar a rede à não conseguir aprender nada, mas sinta-se livre para testar."
   ]
  },
  {
   "cell_type": "code",
   "execution_count": 19,
   "metadata": {},
   "outputs": [
    {
     "name": "stdout",
     "output_type": "stream",
     "text": [
      "Model: \"sequential_1\"\n",
      "_________________________________________________________________\n",
      "Layer (type)                 Output Shape              Param #   \n",
      "=================================================================\n",
      "conv2d_3 (Conv2D)            (None, 98, 98, 16)        448       \n",
      "_________________________________________________________________\n",
      "re_lu (ReLU)                 (None, 98, 98, 16)        0         \n",
      "_________________________________________________________________\n",
      "max_pooling2d_3 (MaxPooling2 (None, 49, 49, 16)        0         \n",
      "_________________________________________________________________\n",
      "conv2d_4 (Conv2D)            (None, 47, 47, 128)       18560     \n",
      "_________________________________________________________________\n",
      "re_lu_1 (ReLU)               (None, 47, 47, 128)       0         \n",
      "_________________________________________________________________\n",
      "max_pooling2d_4 (MaxPooling2 (None, 23, 23, 128)       0         \n",
      "_________________________________________________________________\n",
      "conv2d_5 (Conv2D)            (None, 21, 21, 128)       147584    \n",
      "_________________________________________________________________\n",
      "re_lu_2 (ReLU)               (None, 21, 21, 128)       0         \n",
      "_________________________________________________________________\n",
      "max_pooling2d_5 (MaxPooling2 (None, 10, 10, 128)       0         \n",
      "_________________________________________________________________\n",
      "conv2d_6 (Conv2D)            (None, 8, 8, 64)          73792     \n",
      "_________________________________________________________________\n",
      "re_lu_3 (ReLU)               (None, 8, 8, 64)          0         \n",
      "_________________________________________________________________\n",
      "max_pooling2d_6 (MaxPooling2 (None, 4, 4, 64)          0         \n",
      "_________________________________________________________________\n",
      "flatten_1 (Flatten)          (None, 1024)              0         \n",
      "_________________________________________________________________\n",
      "dense_2 (Dense)              (None, 512)               524800    \n",
      "_________________________________________________________________\n",
      "dropout (Dropout)            (None, 512)               0         \n",
      "_________________________________________________________________\n",
      "dense_3 (Dense)              (None, 100)               51300     \n",
      "_________________________________________________________________\n",
      "dropout_1 (Dropout)          (None, 100)               0         \n",
      "_________________________________________________________________\n",
      "dense_4 (Dense)              (None, 5)                 505       \n",
      "=================================================================\n",
      "Total params: 816,989\n",
      "Trainable params: 816,989\n",
      "Non-trainable params: 0\n",
      "_________________________________________________________________\n"
     ]
    }
   ],
   "source": [
    "from tensorflow.keras.layers import ELU, Dropout, BatchNormalization, GaussianNoise, LeakyReLU, ReLU\n",
    "\n",
    "DROPOUT_RATE = 0.3   #Taxa de desligamento dos neurônios\n",
    "size = [64, 128, 128] #Tamanho para as novas camadas convolucionais\n",
    "\n",
    "model = Sequential()\n",
    "\n",
    "model.add(Conv2D(16, kernel_size=(3, 3), input_shape=input_shape))\n",
    "model.add(ReLU())         \n",
    "model.add(MaxPooling2D((2, 2)))\n",
    "for _ in range(3):  \n",
    "    model.add(Conv2D(size.pop(), (3, 3)))\n",
    "    model.add(ReLU())\n",
    "    model.add(MaxPooling2D((2, 2)))\n",
    "    \n",
    "model.add(Flatten())\n",
    "model.add(Dense(512, activation = 'relu'))\n",
    "model.add(Dropout(DROPOUT_RATE))\n",
    "model.add(Dense(100, activation = 'relu'))\n",
    "model.add(Dropout(DROPOUT_RATE))\n",
    "model.add(Dense(num_classes, activation='sigmoid'))\n",
    "\n",
    "\n",
    "model.compile(loss='sparse_categorical_crossentropy',\n",
    "              optimizer=optimizers.RMSprop(),\n",
    "              metrics=['accuracy'])\n",
    "\n",
    "model.summary()"
   ]
  },
  {
   "cell_type": "markdown",
   "metadata": {},
   "source": [
    "&emsp;Vamos utilizar um método de Augumentation em tempo real, ou seja, o nosso modelo vai ser alimentado com diferentes imagens toda epoch, e para isso usamos o ImageDataGenerator do tensorflow, alguns parâmetros estão definidos abaixo:"
   ]
  },
  {
   "cell_type": "code",
   "execution_count": 20,
   "metadata": {},
   "outputs": [],
   "source": [
    "# Preprocessamento em tempo real de augumentation:\n",
    "datagen_tr = ImageDataGenerator(\n",
    "    rotation_range=40,  #Rotaciona a imagem de forma randomica (graus, 0 a 180)\n",
    "    # Aleatórimente faz o shitf da imagem em fraçao, horizontalmente \n",
    "    width_shift_range=0.2,\n",
    "    # Aleatórimente faz o shitf da imagem em fraçao, verticalmente \n",
    "    height_shift_range=0.2,\n",
    "    # Adiciona um zoom na imagem\n",
    "    zoom_range=0.2\n",
    ")\n",
    "\n",
    "datagen_tr.fit(train_imgs_scaled)\n",
    "\n",
    "datagen_val = ImageDataGenerator()\n",
    "\n",
    "datagen_val.fit(val_imgs_scaled)"
   ]
  },
  {
   "cell_type": "markdown",
   "metadata": {},
   "source": [
    "&emsp;Como prentede-se reduzir o overfit, dificultando o aprendizado da rede, é necessário que o treinamento seja mais longo, para que ela tenha tempo de aprender as características do dataset, por isso vamos utilizar aqui 50 epochs."
   ]
  },
  {
   "cell_type": "code",
   "execution_count": 21,
   "metadata": {},
   "outputs": [],
   "source": [
    "epochs = 50"
   ]
  },
  {
   "cell_type": "markdown",
   "metadata": {},
   "source": [
    "&emsp;Fazendo o fit do modelo com o gerador de imagens:"
   ]
  },
  {
   "cell_type": "code",
   "execution_count": 22,
   "metadata": {},
   "outputs": [
    {
     "name": "stdout",
     "output_type": "stream",
     "text": [
      "WARNING:tensorflow:sample_weight modes were coerced from\n",
      "  ...\n",
      "    to  \n",
      "  ['...']\n",
      "WARNING:tensorflow:sample_weight modes were coerced from\n",
      "  ...\n",
      "    to  \n",
      "  ['...']\n",
      "Train for 101 steps, validate for 33 steps\n",
      "Epoch 1/50\n",
      "101/101 [==============================] - 30s 292ms/step - loss: 1.4063 - accuracy: 0.3649 - val_loss: 1.2699 - val_accuracy: 0.4699\n",
      "Epoch 2/50\n",
      "101/101 [==============================] - 32s 321ms/step - loss: 1.2363 - accuracy: 0.4617 - val_loss: 1.1307 - val_accuracy: 0.5425\n",
      "Epoch 3/50\n",
      "101/101 [==============================] - 32s 322ms/step - loss: 1.1558 - accuracy: 0.5188 - val_loss: 1.1822 - val_accuracy: 0.5301\n",
      "Epoch 4/50\n",
      "101/101 [==============================] - 33s 324ms/step - loss: 1.0794 - accuracy: 0.5528 - val_loss: 0.9732 - val_accuracy: 0.6291\n",
      "Epoch 5/50\n",
      "101/101 [==============================] - 31s 310ms/step - loss: 1.0391 - accuracy: 0.5898 - val_loss: 1.0699 - val_accuracy: 0.6105\n",
      "Epoch 6/50\n",
      "101/101 [==============================] - 31s 308ms/step - loss: 0.9996 - accuracy: 0.6212 - val_loss: 0.9414 - val_accuracy: 0.6491\n",
      "Epoch 7/50\n",
      "101/101 [==============================] - 31s 311ms/step - loss: 0.9483 - accuracy: 0.6298 - val_loss: 0.8677 - val_accuracy: 0.6816\n",
      "Epoch 8/50\n",
      "101/101 [==============================] - 30s 301ms/step - loss: 0.9314 - accuracy: 0.6417 - val_loss: 0.9028 - val_accuracy: 0.6383\n",
      "Epoch 9/50\n",
      "101/101 [==============================] - 31s 310ms/step - loss: 0.9152 - accuracy: 0.6569 - val_loss: 0.8241 - val_accuracy: 0.6924\n",
      "Epoch 10/50\n",
      "101/101 [==============================] - 32s 312ms/step - loss: 0.8814 - accuracy: 0.6694 - val_loss: 0.8845 - val_accuracy: 0.6615\n",
      "Epoch 11/50\n",
      "101/101 [==============================] - 32s 318ms/step - loss: 0.8499 - accuracy: 0.6793 - val_loss: 0.9684 - val_accuracy: 0.6507\n",
      "Epoch 12/50\n",
      "101/101 [==============================] - 32s 316ms/step - loss: 0.8261 - accuracy: 0.6859 - val_loss: 0.8597 - val_accuracy: 0.6847\n",
      "Epoch 13/50\n",
      "101/101 [==============================] - 32s 320ms/step - loss: 0.8255 - accuracy: 0.6919 - val_loss: 0.8187 - val_accuracy: 0.6971\n",
      "Epoch 14/50\n",
      "101/101 [==============================] - 32s 316ms/step - loss: 0.7909 - accuracy: 0.6995 - val_loss: 0.8148 - val_accuracy: 0.7017\n",
      "Epoch 15/50\n",
      "101/101 [==============================] - 32s 312ms/step - loss: 0.7800 - accuracy: 0.7074 - val_loss: 0.8475 - val_accuracy: 0.7048\n",
      "Epoch 16/50\n",
      "101/101 [==============================] - 31s 303ms/step - loss: 0.7834 - accuracy: 0.7104 - val_loss: 0.7611 - val_accuracy: 0.7295\n",
      "Epoch 17/50\n",
      "101/101 [==============================] - 31s 306ms/step - loss: 0.7476 - accuracy: 0.7289 - val_loss: 0.9658 - val_accuracy: 0.6352\n",
      "Epoch 18/50\n",
      "101/101 [==============================] - 32s 317ms/step - loss: 0.7490 - accuracy: 0.7242 - val_loss: 0.8491 - val_accuracy: 0.7172\n",
      "Epoch 19/50\n",
      "101/101 [==============================] - 31s 309ms/step - loss: 0.7275 - accuracy: 0.7365 - val_loss: 0.8478 - val_accuracy: 0.7156\n",
      "Epoch 20/50\n",
      "101/101 [==============================] - 31s 311ms/step - loss: 0.7292 - accuracy: 0.7308 - val_loss: 0.8237 - val_accuracy: 0.7079\n",
      "Epoch 21/50\n",
      "101/101 [==============================] - 32s 320ms/step - loss: 0.7247 - accuracy: 0.7401 - val_loss: 0.8501 - val_accuracy: 0.7311\n",
      "Epoch 22/50\n",
      "101/101 [==============================] - 32s 312ms/step - loss: 0.7211 - accuracy: 0.7391 - val_loss: 0.9748 - val_accuracy: 0.6847\n",
      "Epoch 23/50\n",
      "101/101 [==============================] - 32s 313ms/step - loss: 0.6960 - accuracy: 0.7483 - val_loss: 0.9473 - val_accuracy: 0.7342\n",
      "Epoch 24/50\n",
      "101/101 [==============================] - 32s 315ms/step - loss: 0.7129 - accuracy: 0.7384 - val_loss: 0.7685 - val_accuracy: 0.7589\n",
      "Epoch 25/50\n",
      "101/101 [==============================] - 32s 320ms/step - loss: 0.6885 - accuracy: 0.7477 - val_loss: 0.7816 - val_accuracy: 0.7527\n",
      "Epoch 26/50\n",
      "101/101 [==============================] - 32s 312ms/step - loss: 0.6790 - accuracy: 0.7556 - val_loss: 0.6475 - val_accuracy: 0.7558\n",
      "Epoch 27/50\n",
      "101/101 [==============================] - 31s 309ms/step - loss: 0.7005 - accuracy: 0.7553 - val_loss: 0.9660 - val_accuracy: 0.7372\n",
      "Epoch 28/50\n",
      "101/101 [==============================] - 32s 317ms/step - loss: 0.6868 - accuracy: 0.7635 - val_loss: 0.7677 - val_accuracy: 0.7543\n",
      "Epoch 29/50\n",
      "101/101 [==============================] - 33s 325ms/step - loss: 0.7009 - accuracy: 0.7517 - val_loss: 0.7397 - val_accuracy: 0.7357\n",
      "Epoch 30/50\n",
      "101/101 [==============================] - 32s 314ms/step - loss: 0.6764 - accuracy: 0.7573 - val_loss: 0.7874 - val_accuracy: 0.7342\n",
      "Epoch 31/50\n",
      "101/101 [==============================] - 32s 313ms/step - loss: 0.6785 - accuracy: 0.7602 - val_loss: 0.6763 - val_accuracy: 0.7929\n",
      "Epoch 32/50\n",
      "101/101 [==============================] - 33s 329ms/step - loss: 0.6975 - accuracy: 0.7480 - val_loss: 0.8329 - val_accuracy: 0.7372\n",
      "Epoch 33/50\n",
      "101/101 [==============================] - 32s 320ms/step - loss: 0.7049 - accuracy: 0.7457 - val_loss: 0.8223 - val_accuracy: 0.7512\n",
      "Epoch 34/50\n",
      "101/101 [==============================] - 34s 333ms/step - loss: 0.7131 - accuracy: 0.7493 - val_loss: 0.8322 - val_accuracy: 0.7682\n",
      "Epoch 35/50\n",
      "101/101 [==============================] - 31s 303ms/step - loss: 0.6828 - accuracy: 0.7602 - val_loss: 0.8607 - val_accuracy: 0.7017\n",
      "Epoch 36/50\n",
      "101/101 [==============================] - 32s 314ms/step - loss: 0.7283 - accuracy: 0.7507 - val_loss: 0.8794 - val_accuracy: 0.7465\n",
      "Epoch 37/50\n",
      "101/101 [==============================] - 33s 324ms/step - loss: 0.6937 - accuracy: 0.7483 - val_loss: 0.7474 - val_accuracy: 0.7450\n",
      "Epoch 38/50\n",
      "101/101 [==============================] - 32s 314ms/step - loss: 0.7019 - accuracy: 0.7668 - val_loss: 0.9821 - val_accuracy: 0.7512\n",
      "Epoch 39/50\n",
      "101/101 [==============================] - 32s 318ms/step - loss: 0.6840 - accuracy: 0.7556 - val_loss: 1.2427 - val_accuracy: 0.7713\n",
      "Epoch 40/50\n",
      "101/101 [==============================] - 32s 318ms/step - loss: 0.7570 - accuracy: 0.7477 - val_loss: 0.8026 - val_accuracy: 0.7512\n",
      "Epoch 41/50\n",
      "101/101 [==============================] - 32s 318ms/step - loss: 0.7662 - accuracy: 0.7520 - val_loss: 0.7983 - val_accuracy: 0.7774\n",
      "Epoch 42/50\n",
      "101/101 [==============================] - 32s 312ms/step - loss: 0.7679 - accuracy: 0.7348 - val_loss: 0.7848 - val_accuracy: 0.7481\n",
      "Epoch 43/50\n",
      "101/101 [==============================] - 31s 305ms/step - loss: 0.7461 - accuracy: 0.7421 - val_loss: 0.9928 - val_accuracy: 0.6692\n",
      "Epoch 44/50\n",
      "101/101 [==============================] - 31s 306ms/step - loss: 0.7476 - accuracy: 0.7361 - val_loss: 0.8838 - val_accuracy: 0.7635\n",
      "Epoch 45/50\n",
      "101/101 [==============================] - 30s 299ms/step - loss: 0.7948 - accuracy: 0.7381 - val_loss: 0.8401 - val_accuracy: 0.7048\n",
      "Epoch 46/50\n",
      "101/101 [==============================] - 31s 307ms/step - loss: 0.8005 - accuracy: 0.7381 - val_loss: 1.2921 - val_accuracy: 0.6600\n",
      "Epoch 47/50\n",
      "101/101 [==============================] - 31s 308ms/step - loss: 0.8006 - accuracy: 0.7421 - val_loss: 0.8687 - val_accuracy: 0.7264\n",
      "Epoch 48/50\n",
      "101/101 [==============================] - 30s 301ms/step - loss: 0.8213 - accuracy: 0.7348 - val_loss: 0.8233 - val_accuracy: 0.7280\n",
      "Epoch 49/50\n",
      "101/101 [==============================] - 31s 308ms/step - loss: 0.8007 - accuracy: 0.7414 - val_loss: 0.9944 - val_accuracy: 0.7218\n",
      "Epoch 50/50\n",
      "101/101 [==============================] - 32s 314ms/step - loss: 0.7965 - accuracy: 0.7401 - val_loss: 0.8511 - val_accuracy: 0.7388\n"
     ]
    }
   ],
   "source": [
    "history = model.fit(datagen_tr.flow(train_imgs_scaled, train_labels_enc, batch_size=30),\n",
    "                    validation_data=datagen_val.flow(val_imgs_scaled, val_labels_enc, batch_size=20),\n",
    "                    epochs=epochs)"
   ]
  },
  {
   "cell_type": "code",
   "execution_count": 23,
   "metadata": {},
   "outputs": [],
   "source": [
    "model.save('Modelo_Reg_Aug_CNN.h5') #Salvando o modelo"
   ]
  },
  {
   "cell_type": "code",
   "execution_count": 24,
   "metadata": {},
   "outputs": [
    {
     "data": {
      "image/png": "[encoded data removed]",
      "text/plain": [
       "<Figure size 864x288 with 2 Axes>"
      ]
     },
     "metadata": {
      "needs_background": "light"
     },
     "output_type": "display_data"
    }
   ],
   "source": [
    "f, (ax1, ax2) = plt.subplots(1, 2, figsize=(12, 4))\n",
    "t = f.suptitle('Performance com uma CNN com regularização e augumentation', fontsize=12)\n",
    "f.subplots_adjust(top=0.85, wspace=0.3)\n",
    "\n",
    "epoch_list = list(range(1, 51))\n",
    "ax1.plot(epoch_list, history.history['accuracy'], label='Acurácia do treino')\n",
    "ax1.plot(epoch_list, history.history['val_accuracy'], label='Acurácia na validação')\n",
    "ax1.set_xticks(np.arange(0, 51, 5))\n",
    "ax1.set_ylabel('Acurácia')\n",
    "ax1.set_xlabel('Epoch')\n",
    "ax1.set_title('Acurácia')\n",
    "l1 = ax1.legend(loc=\"best\")\n",
    "\n",
    "ax2.plot(epoch_list, history.history['loss'], label='Loss Treino')\n",
    "ax2.plot(epoch_list, history.history['val_loss'], label='Loss Validação')\n",
    "ax2.set_xticks(np.arange(0, 51, 5))\n",
    "ax2.set_ylabel('Valor do Loss')\n",
    "ax2.set_xlabel('Epoch')\n",
    "ax2.set_title('Loss')\n",
    "l2 = ax2.legend(loc=\"best\")\n",
    "\n",
    "ax1.grid()\n",
    "ax2.grid()"
   ]
  },
  {
   "cell_type": "markdown",
   "metadata": {},
   "source": [
    "&emsp;Aqui vemos como a valição e o treino se acompanham, de fato conseguimos evitar o overfit e elevamos bastante a acurácia da validação, aumentando a capacidade de generalização do modelo. A loss varia bastante mas isso é normal e uma learning rate menor pode suavizar o processo. "
   ]
  },
  {
   "cell_type": "markdown",
   "metadata": {},
   "source": [
    "### Transfer Learning"
   ]
  },
  {
   "cell_type": "markdown",
   "metadata": {},
   "source": [
    "&emsp;Por fim chegamos ao tema em sí deste notebook, vamos tratar do transfer learning. Primeiramente vamos importar a rede que usaremos como transfer: a VGG-16 treinada com o imagenet. Para maiores informações sobre ela, o leitor pode voltar na parte que passei os links sobre as redes estado da arte. Aqui vamos importá-la sem as camadas densas:"
   ]
  },
  {
   "cell_type": "code",
   "execution_count": 26,
   "metadata": {},
   "outputs": [
    {
     "name": "stdout",
     "output_type": "stream",
     "text": [
      "Tensor(\"block5_pool_1/Identity:0\", shape=(None, 3, 3, 512), dtype=float32)\n"
     ]
    }
   ],
   "source": [
    "from tensorflow.keras.applications import vgg16\n",
    "from tensorflow.keras.models import Model\n",
    "import tensorflow.keras\n",
    "\n",
    "vgg = vgg16.VGG16(include_top=False,  #Parâmetro responsável por incluir ou descartar as camadas Fully-connected\n",
    "                  weights='imagenet', \n",
    "                  input_shape=input_shape)\n",
    "\n",
    "print(vgg.layers[-1].output)"
   ]
  },
  {
   "cell_type": "markdown",
   "metadata": {},
   "source": [
    "&emsp;Pela saída acima, como mandamos o *import* não trazer as camadas FC, temos que a última camada da VGG que importamos é a última camada de *maxpooling* do último bloco de convolução da rede, ficou confuso? A seguinte imagem vai te ajudar a compreender o que digo, prete atenção ao nome da camada acima, e os nomes na imagem:\n",
    "\n",
    "<img src = \"https://miro.medium.com/max/1210/1*E7zhhan7Sp7hats4jkKdeA.png\">\n",
    "\n",
    "Fonte:[Medium](https://towardsdatascience.com/a-comprehensive-hands-on-guide-to-transfer-learning-with-real-world-applications-in-deep-learning-212bf3b2f27a)\n",
    "\n",
    "&emsp;De forma que temos tudo que está na imagem até a última camada de *pooling*, precisamos agora formar o nosso modelo, adicionando a *flatten* e as *fully-connected*:"
   ]
  },
  {
   "cell_type": "code",
   "execution_count": 27,
   "metadata": {},
   "outputs": [
    {
     "name": "stdout",
     "output_type": "stream",
     "text": [
      "Tensor(\"flatten_2/Identity:0\", shape=(None, 4608), dtype=float32)\n"
     ]
    }
   ],
   "source": [
    "saida = vgg.layers[-1].output           #Última camada presente no nosso modelo\n",
    "saida = tensorflow.keras.layers.Flatten()(saida)  \n",
    "vgg_model = Model(vgg.input, saida)    #Concatenando o modelo que temos com o *flatten*\n",
    "print(saida)"
   ]
  },
  {
   "cell_type": "markdown",
   "metadata": {},
   "source": [
    "&emsp;Com a manipulação acima conseguimos adicionar o *flatten* ao nosso novo modelo, falta adicionar as camadas FC, mas como prendemos fixar os pesos para todas as camadas até aqui, vamos fazer isso primeiro, que fica mais fácil:"
   ]
  },
  {
   "cell_type": "code",
   "execution_count": 28,
   "metadata": {},
   "outputs": [],
   "source": [
    "vgg_model.trainable = False\n",
    "for layer in vgg_model.layers:\n",
    "    layer.trainable = False"
   ]
  },
  {
   "cell_type": "markdown",
   "metadata": {},
   "source": [
    "&emsp;A seguir vamos criar as camadas *fully-connected* e ligá-las à nossa rede:"
   ]
  },
  {
   "cell_type": "code",
   "execution_count": 29,
   "metadata": {},
   "outputs": [
    {
     "name": "stdout",
     "output_type": "stream",
     "text": [
      "Model: \"sequential_2\"\n",
      "_________________________________________________________________\n",
      "Layer (type)                 Output Shape              Param #   \n",
      "=================================================================\n",
      "dense_5 (Dense)              (None, 512)               2359808   \n",
      "_________________________________________________________________\n",
      "dense_6 (Dense)              (None, 512)               262656    \n",
      "_________________________________________________________________\n",
      "dense_7 (Dense)              (None, 5)                 2565      \n",
      "=================================================================\n",
      "Total params: 2,625,029\n",
      "Trainable params: 2,625,029\n",
      "Non-trainable params: 0\n",
      "_________________________________________________________________\n"
     ]
    }
   ],
   "source": [
    "from tensorflow.keras.layers import InputLayer\n",
    "\n",
    "input_shape = vgg_model.output_shape[1]\n",
    "\n",
    "model = Sequential()\n",
    "model.add(InputLayer(input_shape=(input_shape,)))\n",
    "model.add(Dense(512, activation='relu', input_dim=input_shape))\n",
    "model.add(Dense(512, activation='relu'))\n",
    "model.add(Dense(num_classes, activation='sigmoid'))\n",
    "\n",
    "model.compile(loss='sparse_categorical_crossentropy',\n",
    "              optimizer=optimizers.RMSprop(lr=1e-4),\n",
    "              metrics=['accuracy'])\n",
    "\n",
    "model.summary()"
   ]
  },
  {
   "cell_type": "markdown",
   "metadata": {},
   "source": [
    "&emsp;Para facilitar, não vamos unir ambas as redes neste ponto, um bom motivo para isso é que demora muito tempo para passar as imagens pela arquitetura da VGG com as camadas *fully-connected* junto, por outro lado se processar as imagens pelas camadas convolucionais antes, e depois passar pela rede é muito mais e rápido, pois fazemos isto apenas uma vez, ao invés de fazer 'epoch' vezes. Além disso se algo ocorrer é melhor ter a saída deste modelo salva para que não seja necessário ficar rodando constantemente isso. No seu computador pessoal isso pode parecer besteira, mas em uma cloud ficar rodando várias vezes a mesma coisa é perder dinheiro."
   ]
  },
  {
   "cell_type": "code",
   "execution_count": 30,
   "metadata": {},
   "outputs": [
    {
     "name": "stdout",
     "output_type": "stream",
     "text": [
      "Imagens de treino pela VGG: (3028, 4608)\n",
      "Imagens de validaação pela VGG: (647, 4608)\n"
     ]
    }
   ],
   "source": [
    "def passar_pela_vgg(model, input_img):  #Função responsável por passar a imagem pela VGG-16\n",
    "    saida = model.predict(input_img, verbose=0)\n",
    "    return saida\n",
    "    \n",
    "train_vgg = passar_pela_vgg(vgg_model, train_imgs_scaled)\n",
    "val_vgg = passar_pela_vgg(vgg_model, val_imgs_scaled)\n",
    "\n",
    "print('Imagens de treino pela VGG:', train_vgg.shape)\n",
    "print('Imagens de validaação pela VGG:', val_vgg.shape)\n"
   ]
  },
  {
   "cell_type": "markdown",
   "metadata": {},
   "source": [
    "&emsp;Com as imagens prontas e o modelo de camadas totalmente conectadas pronto, vamos para o método *fit*. Lembrando que aqui não vamos valer de regularização e de augumentation, primeiro vamos analisar o desempenho puro da VGG."
   ]
  },
  {
   "cell_type": "code",
   "execution_count": 31,
   "metadata": {},
   "outputs": [
    {
     "name": "stdout",
     "output_type": "stream",
     "text": [
      "Train on 3028 samples, validate on 647 samples\n",
      "Epoch 1/30\n",
      "3028/3028 [==============================] - 3s 1ms/sample - loss: 1.0785 - accuracy: 0.5938 - val_loss: 0.8167 - val_accuracy: 0.7032\n",
      "Epoch 2/30\n",
      "3028/3028 [==============================] - 3s 854us/sample - loss: 0.7243 - accuracy: 0.7328 - val_loss: 0.7102 - val_accuracy: 0.7372\n",
      "Epoch 3/30\n",
      "3028/3028 [==============================] - 3s 872us/sample - loss: 0.5895 - accuracy: 0.7906 - val_loss: 0.6934 - val_accuracy: 0.7403\n",
      "Epoch 4/30\n",
      "3028/3028 [==============================] - 3s 835us/sample - loss: 0.4956 - accuracy: 0.8243 - val_loss: 0.6441 - val_accuracy: 0.7774\n",
      "Epoch 5/30\n",
      "3028/3028 [==============================] - 3s 827us/sample - loss: 0.4268 - accuracy: 0.8550 - val_loss: 0.6606 - val_accuracy: 0.7573\n",
      "Epoch 6/30\n",
      "3028/3028 [==============================] - 3s 869us/sample - loss: 0.3642 - accuracy: 0.8752 - val_loss: 0.6309 - val_accuracy: 0.7867\n",
      "Epoch 7/30\n",
      "3028/3028 [==============================] - 3s 862us/sample - loss: 0.3060 - accuracy: 0.9019 - val_loss: 0.7527 - val_accuracy: 0.7496\n",
      "Epoch 8/30\n",
      "3028/3028 [==============================] - 3s 856us/sample - loss: 0.2539 - accuracy: 0.9191 - val_loss: 0.7476 - val_accuracy: 0.7527\n",
      "Epoch 9/30\n",
      "3028/3028 [==============================] - 3s 866us/sample - loss: 0.2179 - accuracy: 0.9346 - val_loss: 0.6912 - val_accuracy: 0.7774\n",
      "Epoch 10/30\n",
      "3028/3028 [==============================] - 3s 833us/sample - loss: 0.1841 - accuracy: 0.9389 - val_loss: 0.7087 - val_accuracy: 0.7805\n",
      "Epoch 11/30\n",
      "3028/3028 [==============================] - 2s 823us/sample - loss: 0.1461 - accuracy: 0.9584 - val_loss: 0.7258 - val_accuracy: 0.7743\n",
      "Epoch 12/30\n",
      "3028/3028 [==============================] - 2s 823us/sample - loss: 0.1196 - accuracy: 0.9666 - val_loss: 0.8739 - val_accuracy: 0.7450\n",
      "Epoch 13/30\n",
      "3028/3028 [==============================] - 3s 861us/sample - loss: 0.1011 - accuracy: 0.9742 - val_loss: 0.8097 - val_accuracy: 0.7790\n",
      "Epoch 14/30\n",
      "3028/3028 [==============================] - 3s 882us/sample - loss: 0.0779 - accuracy: 0.9785 - val_loss: 0.8200 - val_accuracy: 0.7759\n",
      "Epoch 15/30\n",
      "3028/3028 [==============================] - 3s 903us/sample - loss: 0.0642 - accuracy: 0.9812 - val_loss: 0.9319 - val_accuracy: 0.7512\n",
      "Epoch 16/30\n",
      "3028/3028 [==============================] - 3s 855us/sample - loss: 0.0540 - accuracy: 0.9884 - val_loss: 0.8736 - val_accuracy: 0.7790\n",
      "Epoch 17/30\n",
      "3028/3028 [==============================] - 3s 831us/sample - loss: 0.0423 - accuracy: 0.9924 - val_loss: 0.9496 - val_accuracy: 0.7651\n",
      "Epoch 18/30\n",
      "3028/3028 [==============================] - 3s 843us/sample - loss: 0.0359 - accuracy: 0.9917 - val_loss: 0.9109 - val_accuracy: 0.7743\n",
      "Epoch 19/30\n",
      "3028/3028 [==============================] - 3s 854us/sample - loss: 0.0327 - accuracy: 0.9934 - val_loss: 1.0804 - val_accuracy: 0.7558\n",
      "Epoch 20/30\n",
      "3028/3028 [==============================] - 3s 833us/sample - loss: 0.0293 - accuracy: 0.9917 - val_loss: 1.0091 - val_accuracy: 0.7682\n",
      "Epoch 21/30\n",
      "3028/3028 [==============================] - 3s 886us/sample - loss: 0.0225 - accuracy: 0.9960 - val_loss: 1.0165 - val_accuracy: 0.7790\n",
      "Epoch 22/30\n",
      "3028/3028 [==============================] - 3s 837us/sample - loss: 0.0253 - accuracy: 0.9911 - val_loss: 1.0915 - val_accuracy: 0.7774\n",
      "Epoch 23/30\n",
      "3028/3028 [==============================] - 3s 863us/sample - loss: 0.0201 - accuracy: 0.9947 - val_loss: 1.0275 - val_accuracy: 0.7805\n",
      "Epoch 24/30\n",
      "3028/3028 [==============================] - 3s 871us/sample - loss: 0.0171 - accuracy: 0.9950 - val_loss: 1.0604 - val_accuracy: 0.7805\n",
      "Epoch 25/30\n",
      "3028/3028 [==============================] - 3s 863us/sample - loss: 0.0154 - accuracy: 0.9964 - val_loss: 1.5467 - val_accuracy: 0.7249\n",
      "Epoch 26/30\n",
      "3028/3028 [==============================] - 3s 864us/sample - loss: 0.0162 - accuracy: 0.9957 - val_loss: 1.1092 - val_accuracy: 0.7821\n",
      "Epoch 27/30\n",
      "3028/3028 [==============================] - 3s 852us/sample - loss: 0.0144 - accuracy: 0.9964 - val_loss: 1.1469 - val_accuracy: 0.7743\n",
      "Epoch 28/30\n",
      "3028/3028 [==============================] - 3s 853us/sample - loss: 0.0139 - accuracy: 0.9960 - val_loss: 1.2656 - val_accuracy: 0.7635\n",
      "Epoch 29/30\n",
      "3028/3028 [==============================] - 3s 840us/sample - loss: 0.0138 - accuracy: 0.9964 - val_loss: 1.7108 - val_accuracy: 0.7063\n",
      "Epoch 30/30\n",
      "3028/3028 [==============================] - 3s 890us/sample - loss: 0.0116 - accuracy: 0.9944 - val_loss: 1.5021 - val_accuracy: 0.7357\n"
     ]
    }
   ],
   "source": [
    "epochs = 30\n",
    "history = model.fit(x=train_vgg, y=train_labels_enc,\n",
    "                    validation_data=(val_vgg, val_labels_enc),\n",
    "                    batch_size=batch_size,\n",
    "                    epochs=epochs,\n",
    "                    verbose=1)"
   ]
  },
  {
   "cell_type": "code",
   "execution_count": 32,
   "metadata": {},
   "outputs": [
    {
     "data": {
      "image/png": "[encoded data removed]",
      "text/plain": [
       "<Figure size 864x288 with 2 Axes>"
      ]
     },
     "metadata": {
      "needs_background": "light"
     },
     "output_type": "display_data"
    }
   ],
   "source": [
    "f, (ax1, ax2) = plt.subplots(1, 2, figsize=(12, 4))\n",
    "t = f.suptitle('Performance com uma VGG-16 padrão', fontsize=12)\n",
    "f.subplots_adjust(top=0.85, wspace=0.3)\n",
    "\n",
    "epoch_list = list(range(1,31))\n",
    "ax1.plot(epoch_list, history.history['accuracy'], label='Acurácia do treino')\n",
    "ax1.plot(epoch_list, history.history['val_accuracy'], label='Acurácia na validação')\n",
    "ax1.set_xticks(np.arange(0, 31, 5))\n",
    "ax1.set_ylabel('Acurácia')\n",
    "ax1.set_xlabel('Epoch')\n",
    "ax1.set_title('Acurácia')\n",
    "l1 = ax1.legend(loc=\"best\")\n",
    "\n",
    "ax2.plot(epoch_list, history.history['loss'], label='Loss Treino')\n",
    "ax2.plot(epoch_list, history.history['val_loss'], label='Loss Validação')\n",
    "ax2.set_xticks(np.arange(0, 31, 5))\n",
    "ax2.set_ylabel('Valor do Loss')\n",
    "ax2.set_xlabel('Epoch')\n",
    "ax2.set_title('Loss')\n",
    "l2 = ax2.legend(loc=\"best\")\n",
    "\n",
    "ax1.grid()\n",
    "ax2.grid()"
   ]
  },
  {
   "cell_type": "markdown",
   "metadata": {},
   "source": [
    "&emsp;Visivelmente esse nosso transfer *off the shelf features* conseguiu atingir a mesma acurácia que o modelo com regularização e com augumentation, mas o detalhe é que este passou por um overfit também, logo estas técnicas podem ajudar a reduzir o mesmo, aumentando o desempenho geral da rede."
   ]
  },
  {
   "cell_type": "code",
   "execution_count": 33,
   "metadata": {},
   "outputs": [],
   "source": [
    "model.save('Modelo_Transfer_Básico.h5')"
   ]
  },
  {
   "cell_type": "markdown",
   "metadata": {},
   "source": [
    "### Transfer Learning com Regularização e Augumentation"
   ]
  },
  {
   "cell_type": "markdown",
   "metadata": {},
   "source": [
    "&emsp;O resultado acima foi realmente muito bom, sem quase nenhum esforço já foi possível alcançar praticamente o mesmo resultado obtido pela nossa rede manual com regularização e augumentation, mas ainda não chegamos ao limite, claro, visto que o gráfico acima mostra que a rede leva ao overfitting, portanto podemos utilizar as técnicas descritas anteriormente para reduzir o mesmo e aumentar ainda mais o desempenho, vamos ver agora como fazer isso."
   ]
  },
  {
   "cell_type": "code",
   "execution_count": 34,
   "metadata": {},
   "outputs": [],
   "source": [
    "# This will do preprocessing and realtime data augmentation:\n",
    "datagen_tr = ImageDataGenerator(\n",
    "    rotation_range=30,  # randomly rotate images in the range (degrees, 0 to 180)\n",
    "    # randomly shift images horizontally (fraction of total width)\n",
    "    width_shift_range=0.2,\n",
    "    # randomly shift images vertically (fraction of total height)\n",
    "    height_shift_range=0.2,\n",
    "    zoom_range=0.2)\n",
    "\n",
    "datagen_tr.fit(train_imgs_scaled)\n",
    "\n",
    "datagen_val = ImageDataGenerator()\n",
    "\n",
    "datagen_val.fit(val_imgs_scaled)"
   ]
  },
  {
   "cell_type": "code",
   "execution_count": 35,
   "metadata": {},
   "outputs": [
    {
     "name": "stdout",
     "output_type": "stream",
     "text": [
      "Model: \"sequential_3\"\n",
      "_________________________________________________________________\n",
      "Layer (type)                 Output Shape              Param #   \n",
      "=================================================================\n",
      "model (Model)                (None, 4608)              14714688  \n",
      "_________________________________________________________________\n",
      "dense_8 (Dense)              (None, 512)               2359808   \n",
      "_________________________________________________________________\n",
      "re_lu_4 (ReLU)               (None, 512)               0         \n",
      "_________________________________________________________________\n",
      "dropout_2 (Dropout)          (None, 512)               0         \n",
      "_________________________________________________________________\n",
      "dense_9 (Dense)              (None, 512)               262656    \n",
      "_________________________________________________________________\n",
      "re_lu_5 (ReLU)               (None, 512)               0         \n",
      "_________________________________________________________________\n",
      "dropout_3 (Dropout)          (None, 512)               0         \n",
      "_________________________________________________________________\n",
      "dense_10 (Dense)             (None, 100)               51300     \n",
      "_________________________________________________________________\n",
      "re_lu_6 (ReLU)               (None, 100)               0         \n",
      "_________________________________________________________________\n",
      "dropout_4 (Dropout)          (None, 100)               0         \n",
      "_________________________________________________________________\n",
      "dense_11 (Dense)             (None, 5)                 505       \n",
      "=================================================================\n",
      "Total params: 17,388,957\n",
      "Trainable params: 2,674,269\n",
      "Non-trainable params: 14,714,688\n",
      "_________________________________________________________________\n"
     ]
    }
   ],
   "source": [
    "model = Sequential()\n",
    "\n",
    "model.add(vgg_model)\n",
    "model.add(Dense(512, input_dim=input_shape))\n",
    "model.add(ReLU())\n",
    "model.add(Dropout(0.2))\n",
    "model.add(Dense(512))\n",
    "model.add(ReLU())\n",
    "model.add(Dropout(0.2))\n",
    "model.add(Dense(100))  #Adicionar mais uma densa com 100 neurônios\n",
    "model.add(ReLU())\n",
    "model.add(Dropout(0.2))\n",
    "model.add(Dense(5, activation='sigmoid'))\n",
    "\n",
    "model.compile(loss='sparse_categorical_crossentropy',\n",
    "              optimizer=optimizers.RMSprop(lr=5e-5),\n",
    "              metrics=['accuracy'])\n",
    "\n",
    "model.summary()"
   ]
  },
  {
   "cell_type": "markdown",
   "metadata": {},
   "source": [
    "&emsp;Novamente como a intenção é reduzir o overfitting vou utilizar mais epochs, para conseguir analisar melhor o comportamento da rede:"
   ]
  },
  {
   "cell_type": "code",
   "execution_count": 36,
   "metadata": {},
   "outputs": [
    {
     "name": "stdout",
     "output_type": "stream",
     "text": [
      "WARNING:tensorflow:sample_weight modes were coerced from\n",
      "  ...\n",
      "    to  \n",
      "  ['...']\n",
      "WARNING:tensorflow:sample_weight modes were coerced from\n",
      "  ...\n",
      "    to  \n",
      "  ['...']\n",
      "Train for 100 steps, validate for 33 steps\n",
      "Epoch 1/40\n",
      "100/100 [==============================] - 122s 1s/step - loss: 1.4910 - accuracy: 0.3596 - val_loss: 1.2631 - val_accuracy: 0.5765\n",
      "Epoch 2/40\n",
      "100/100 [==============================] - 126s 1s/step - loss: 1.2588 - accuracy: 0.5223 - val_loss: 1.0445 - val_accuracy: 0.6198\n",
      "Epoch 3/40\n",
      "100/100 [==============================] - 126s 1s/step - loss: 1.1385 - accuracy: 0.5664 - val_loss: 0.9621 - val_accuracy: 0.6615\n",
      "Epoch 4/40\n",
      "100/100 [==============================] - 126s 1s/step - loss: 1.0619 - accuracy: 0.6001 - val_loss: 0.8601 - val_accuracy: 0.6909\n",
      "Epoch 5/40\n",
      "100/100 [==============================] - 126s 1s/step - loss: 0.9806 - accuracy: 0.6394 - val_loss: 0.8340 - val_accuracy: 0.6986\n",
      "Epoch 6/40\n",
      "100/100 [==============================] - 130s 1s/step - loss: 0.9398 - accuracy: 0.6544 - val_loss: 0.7785 - val_accuracy: 0.7187\n",
      "Epoch 7/40\n",
      "100/100 [==============================] - 122s 1s/step - loss: 0.8969 - accuracy: 0.6731 - val_loss: 0.7628 - val_accuracy: 0.7172\n",
      "Epoch 8/40\n",
      "100/100 [==============================] - 120s 1s/step - loss: 0.8676 - accuracy: 0.6815 - val_loss: 0.7619 - val_accuracy: 0.7357\n",
      "Epoch 9/40\n",
      "100/100 [==============================] - 119s 1s/step - loss: 0.8309 - accuracy: 0.6905 - val_loss: 0.7104 - val_accuracy: 0.7450\n",
      "Epoch 10/40\n",
      "100/100 [==============================] - 120s 1s/step - loss: 0.8041 - accuracy: 0.7105 - val_loss: 0.7036 - val_accuracy: 0.7342\n",
      "Epoch 11/40\n",
      "100/100 [==============================] - 122s 1s/step - loss: 0.8010 - accuracy: 0.7031 - val_loss: 0.6861 - val_accuracy: 0.7496\n",
      "Epoch 12/40\n",
      "100/100 [==============================] - 122s 1s/step - loss: 0.7721 - accuracy: 0.7098 - val_loss: 0.7138 - val_accuracy: 0.7388\n",
      "Epoch 13/40\n",
      "100/100 [==============================] - 123s 1s/step - loss: 0.7467 - accuracy: 0.7335 - val_loss: 0.6679 - val_accuracy: 0.7604\n",
      "Epoch 14/40\n",
      "100/100 [==============================] - 122s 1s/step - loss: 0.7350 - accuracy: 0.7295 - val_loss: 0.6989 - val_accuracy: 0.7589\n",
      "Epoch 15/40\n",
      "100/100 [==============================] - 126s 1s/step - loss: 0.7302 - accuracy: 0.7285 - val_loss: 0.6737 - val_accuracy: 0.7635\n",
      "Epoch 16/40\n",
      "100/100 [==============================] - 130s 1s/step - loss: 0.7042 - accuracy: 0.7365 - val_loss: 0.6533 - val_accuracy: 0.7666\n",
      "Epoch 17/40\n",
      "100/100 [==============================] - 134s 1s/step - loss: 0.6931 - accuracy: 0.7458 - val_loss: 0.6863 - val_accuracy: 0.7666\n",
      "Epoch 18/40\n",
      "100/100 [==============================] - 139s 1s/step - loss: 0.6844 - accuracy: 0.7442 - val_loss: 0.6774 - val_accuracy: 0.7573\n",
      "Epoch 19/40\n",
      "100/100 [==============================] - 128s 1s/step - loss: 0.6732 - accuracy: 0.7498 - val_loss: 0.6531 - val_accuracy: 0.7713\n",
      "Epoch 20/40\n",
      "100/100 [==============================] - 123s 1s/step - loss: 0.6611 - accuracy: 0.7538 - val_loss: 0.6629 - val_accuracy: 0.7666\n",
      "Epoch 21/40\n",
      "100/100 [==============================] - 122s 1s/step - loss: 0.6689 - accuracy: 0.7538 - val_loss: 0.6627 - val_accuracy: 0.7651\n",
      "Epoch 22/40\n",
      "100/100 [==============================] - 118s 1s/step - loss: 0.6471 - accuracy: 0.7675 - val_loss: 0.6713 - val_accuracy: 0.7651\n",
      "Epoch 23/40\n",
      "100/100 [==============================] - 118s 1s/step - loss: 0.6399 - accuracy: 0.7622 - val_loss: 0.6331 - val_accuracy: 0.7790\n",
      "Epoch 24/40\n",
      "100/100 [==============================] - 118s 1s/step - loss: 0.6160 - accuracy: 0.7775 - val_loss: 0.6155 - val_accuracy: 0.7713\n",
      "Epoch 25/40\n",
      "100/100 [==============================] - 118s 1s/step - loss: 0.6303 - accuracy: 0.7645 - val_loss: 0.6167 - val_accuracy: 0.7821\n",
      "Epoch 26/40\n",
      "100/100 [==============================] - 118s 1s/step - loss: 0.6084 - accuracy: 0.7692 - val_loss: 0.6223 - val_accuracy: 0.7805\n",
      "Epoch 27/40\n",
      "100/100 [==============================] - 117s 1s/step - loss: 0.5965 - accuracy: 0.7795 - val_loss: 0.6421 - val_accuracy: 0.7836\n",
      "Epoch 28/40\n",
      "100/100 [==============================] - 118s 1s/step - loss: 0.6034 - accuracy: 0.7718 - val_loss: 0.6393 - val_accuracy: 0.7790\n",
      "Epoch 29/40\n",
      "100/100 [==============================] - 118s 1s/step - loss: 0.6090 - accuracy: 0.7759 - val_loss: 0.6086 - val_accuracy: 0.7883\n",
      "Epoch 30/40\n",
      "100/100 [==============================] - 117s 1s/step - loss: 0.5810 - accuracy: 0.7905 - val_loss: 0.6137 - val_accuracy: 0.7929\n",
      "Epoch 31/40\n",
      "100/100 [==============================] - 116s 1s/step - loss: 0.5930 - accuracy: 0.7839 - val_loss: 0.6365 - val_accuracy: 0.7805\n",
      "Epoch 32/40\n",
      "100/100 [==============================] - 229s 2s/step - loss: 0.5612 - accuracy: 0.7949 - val_loss: 0.6641 - val_accuracy: 0.7713\n",
      "Epoch 33/40\n",
      "100/100 [==============================] - 166s 2s/step - loss: 0.5653 - accuracy: 0.7972 - val_loss: 0.6053 - val_accuracy: 0.7836\n",
      "Epoch 34/40\n",
      "100/100 [==============================] - 178s 2s/step - loss: 0.5573 - accuracy: 0.7975 - val_loss: 0.6323 - val_accuracy: 0.7805\n",
      "Epoch 35/40\n",
      "100/100 [==============================] - 180s 2s/step - loss: 0.5604 - accuracy: 0.7952 - val_loss: 0.6304 - val_accuracy: 0.7743\n",
      "Epoch 36/40\n",
      "100/100 [==============================] - 181s 2s/step - loss: 0.5525 - accuracy: 0.8005 - val_loss: 0.6191 - val_accuracy: 0.7883\n",
      "Epoch 37/40\n",
      "100/100 [==============================] - 174s 2s/step - loss: 0.5388 - accuracy: 0.8092 - val_loss: 0.5984 - val_accuracy: 0.8099\n",
      "Epoch 38/40\n",
      "100/100 [==============================] - 328s 3s/step - loss: 0.5391 - accuracy: 0.8035 - val_loss: 0.5953 - val_accuracy: 0.7898\n",
      "Epoch 39/40\n",
      "100/100 [==============================] - 633s 6s/step - loss: 0.5323 - accuracy: 0.8075 - val_loss: 0.6091 - val_accuracy: 0.7913\n",
      "Epoch 40/40\n",
      "100/100 [==============================] - 591s 6s/step - loss: 0.5094 - accuracy: 0.8179 - val_loss: 0.6157 - val_accuracy: 0.8022\n"
     ]
    }
   ],
   "source": [
    "history = model.fit(datagen_tr.flow(train_imgs_scaled, train_labels_enc, batch_size=30),\n",
    "                    validation_data=datagen_val.flow(val_imgs_scaled, val_labels_enc, batch_size=20),\n",
    "                    epochs=40,\n",
    "                    steps_per_epoch=100)"
   ]
  },
  {
   "cell_type": "code",
   "execution_count": 37,
   "metadata": {},
   "outputs": [],
   "source": [
    "model.save('Modelo_Transfer_Reg_Aug.h5') #Salvando o modelo para posterior anáise"
   ]
  },
  {
   "cell_type": "markdown",
   "metadata": {},
   "source": [
    "### Transfer Learning com ajuste fino de parâmetros"
   ]
  },
  {
   "cell_type": "markdown",
   "metadata": {},
   "source": [
    "&emsp;Vemos acima que o modelo alcançou melhores resultados na validação que o transfer puro, além de inibir o overfitting. O ganho de desempenho foi relativamente pequeno visto que não deixei o modelo treinar por tempo suficiente, devido às limitações importas pelo meu hardware, como da pra ver pelo tempo em cada epoch, ainda assim é visível que esse modelo é melhor que o anterior.\n",
    "\n",
    "&emsp;Mas será que não conseguimos melhorá-lo ainda mais? Até aqui estamos utilizando apenas a estratégia *off the shelf*, vamos tentar utilizar o *fine-tuning*, lembrando que está é mais custosa pois temos mais parâmetros treináveis. Vamos habilitar o treino apenas em uma camada de convolução do nosso modelo, a última, mas poderíamos fazer isso com mais camadas, a tendência é qua as últimas camadas de convolução busquem features de mais alto nível, de forma que o ideal é treinar estas para as particularidades do nosso dataset. A imagem a seguir ilustra as *features* que cada camada tende a procurar:\n",
    "\n",
    "<img src = https://dpzbhybb2pdcj.cloudfront.net/elgendy/v-8/Figures/01-04_img_0184.png>\n",
    "\n",
    "Fonte: [3 Convolutional Neural Networks (CNNs)](https://livebook.manning.com/book/grokking-deep-learning-for-computer-vision/chapter-3/v-8/118)\n",
    "\n",
    "&emsp;Enquanto as camadas iniciais buscam por *features* mais simples, e portanto mais genéricas, as mais profundas buscam *featuers* mais complexas e específicas. Por isso esses modelos estado da arte funcionam tão bem independente do caso de transfer que você executa, pois a capacidade delas em identificar característica de baixo nível é muito avançada, logo se treinar-mos as camadas finais a tendência é que o modelo fique ainda melhor, vamos testar:"
   ]
  },
  {
   "cell_type": "code",
   "execution_count": 38,
   "metadata": {},
   "outputs": [],
   "source": [
    "vgg_model.trainable = True  #Permitindo o treino\n",
    "\n",
    "set_trainable = False\n",
    "for layer in vgg_model.layers:\n",
    "    if layer.name in ['block5_conv1']: #Habilitamos o treino apenas para a última camada\n",
    "        set_trainable = True\n",
    "    if set_trainable:\n",
    "        layer.trainable = True\n",
    "    else:\n",
    "        layer.trainable = False"
   ]
  },
  {
   "cell_type": "markdown",
   "metadata": {},
   "source": [
    "&emsp;Como o treino novamente é demorado vou voltar a utilizar apenas 10 epochs, mas será o suficiente para ver o poder do modelo, vou utilizar ainda o augumentation e o dropout:"
   ]
  },
  {
   "cell_type": "code",
   "execution_count": 39,
   "metadata": {},
   "outputs": [
    {
     "name": "stdout",
     "output_type": "stream",
     "text": [
      "WARNING:tensorflow:sample_weight modes were coerced from\n",
      "  ...\n",
      "    to  \n",
      "  ['...']\n",
      "WARNING:tensorflow:sample_weight modes were coerced from\n",
      "  ...\n",
      "    to  \n",
      "  ['...']\n",
      "Train for 100 steps, validate for 33 steps\n",
      "Epoch 1/10\n",
      "100/100 [==============================] - 802s 8s/step - loss: 1.0656 - accuracy: 0.5797 - val_loss: 0.6595 - val_accuracy: 0.7682\n",
      "Epoch 2/10\n",
      "100/100 [==============================] - 818s 8s/step - loss: 0.7329 - accuracy: 0.7308 - val_loss: 0.5678 - val_accuracy: 0.8006\n",
      "Epoch 3/10\n",
      "100/100 [==============================] - 801s 8s/step - loss: 0.6251 - accuracy: 0.7705 - val_loss: 0.5898 - val_accuracy: 0.7805\n",
      "Epoch 4/10\n",
      "100/100 [==============================] - 810s 8s/step - loss: 0.5396 - accuracy: 0.8065 - val_loss: 0.4754 - val_accuracy: 0.8362\n",
      "Epoch 5/10\n",
      "100/100 [==============================] - 797s 8s/step - loss: 0.4878 - accuracy: 0.8329 - val_loss: 0.4610 - val_accuracy: 0.8393\n",
      "Epoch 6/10\n",
      "100/100 [==============================] - 1964s 20s/step - loss: 0.4431 - accuracy: 0.8396 - val_loss: 0.6211 - val_accuracy: 0.8238\n",
      "Epoch 7/10\n",
      "100/100 [==============================] - 211s 2s/step - loss: 0.4181 - accuracy: 0.8466 - val_loss: 0.5968 - val_accuracy: 0.8393\n",
      "Epoch 8/10\n",
      "100/100 [==============================] - 227s 2s/step - loss: 0.4089 - accuracy: 0.8606 - val_loss: 0.4672 - val_accuracy: 0.8578\n",
      "Epoch 9/10\n",
      "100/100 [==============================] - 217s 2s/step - loss: 0.3662 - accuracy: 0.8722 - val_loss: 0.6309 - val_accuracy: 0.8408\n",
      "Epoch 10/10\n",
      "100/100 [==============================] - 231s 2s/step - loss: 0.3578 - accuracy: 0.8756 - val_loss: 0.7441 - val_accuracy: 0.8253\n"
     ]
    }
   ],
   "source": [
    "model = Sequential()\n",
    "\n",
    "model.add(vgg_model)\n",
    "model.add(Dense(512, input_dim=input_shape))\n",
    "model.add(ReLU())\n",
    "model.add(Dropout(0.2))\n",
    "model.add(Dense(512))\n",
    "model.add(ReLU())\n",
    "model.add(Dropout(0.2))\n",
    "model.add(ReLU())\n",
    "model.add(Dropout(0.2))\n",
    "model.add(Dense(5, activation='sigmoid'))\n",
    "\n",
    "model.compile(loss='sparse_categorical_crossentropy',\n",
    "              optimizer=optimizers.RMSprop(lr=1e-4),\n",
    "              metrics=['accuracy'])\n",
    "\n",
    "history = model.fit(datagen_tr.flow(train_imgs_scaled, train_labels_enc, batch_size=30),\n",
    "                    validation_data=datagen_val.flow(val_imgs_scaled, val_labels_enc, batch_size=20),\n",
    "                    epochs=10,\n",
    "                    steps_per_epoch=100)"
   ]
  },
  {
   "cell_type": "code",
   "execution_count": 40,
   "metadata": {},
   "outputs": [],
   "source": [
    "model.save('Modelo_Transfer_Fine.h5')"
   ]
  },
  {
   "cell_type": "code",
   "execution_count": 41,
   "metadata": {},
   "outputs": [
    {
     "data": {
      "image/png": "[encoded data removed]",
      "text/plain": [
       "<Figure size 864x288 with 2 Axes>"
      ]
     },
     "metadata": {
      "needs_background": "light"
     },
     "output_type": "display_data"
    }
   ],
   "source": [
    "f, (ax1, ax2) = plt.subplots(1, 2, figsize=(12, 4))\n",
    "t = f.suptitle('Performance com uma VGG-16 padrão', fontsize=12)\n",
    "f.subplots_adjust(top=0.85, wspace=0.3)\n",
    "\n",
    "epoch_list = list(range(1,11))\n",
    "ax1.plot(epoch_list, history.history['accuracy'], label='Acurácia do treino')\n",
    "ax1.plot(epoch_list, history.history['val_accuracy'], label='Acurácia na validação')\n",
    "ax1.set_xticks(np.arange(0, 11, 2))\n",
    "ax1.set_ylabel('Acurácia')\n",
    "ax1.set_xlabel('Epoch')\n",
    "ax1.set_title('Acurácia')\n",
    "l1 = ax1.legend(loc=\"best\")\n",
    "\n",
    "ax2.plot(epoch_list, history.history['loss'], label='Loss Treino')\n",
    "ax2.plot(epoch_list, history.history['val_loss'], label='Loss Validação')\n",
    "ax2.set_xticks(np.arange(0, 11, 2))\n",
    "ax2.set_ylabel('Valor do Loss')\n",
    "ax2.set_xlabel('Epoch')\n",
    "ax2.set_title('Loss')\n",
    "l2 = ax2.legend(loc=\"best\")\n",
    "\n",
    "ax1.grid()\n",
    "ax2.grid()"
   ]
  },
  {
   "cell_type": "markdown",
   "metadata": {},
   "source": [
    "&emsp;Incrível a evolução do modelo né? Esse é o poder de um *transfer learning* com arquiteturas estado-da-arte. Vale ver que o modelo não vai ao overfitting e que ainda poderíamos tentar obter maior acurácia, mas vamos ficar com este por enquanto, já é visível o ganho que o modelo proporciona."
   ]
  },
  {
   "cell_type": "markdown",
   "metadata": {},
   "source": [
    "### Avaliando os resultados no treino"
   ]
  },
  {
   "cell_type": "markdown",
   "metadata": {},
   "source": [
    "&emsp;Vamos agora analisar a eficiência dos modelos no domínio de teste, e para tal precisamos primeiro fazer o load de cada um:"
   ]
  },
  {
   "cell_type": "code",
   "execution_count": 43,
   "metadata": {},
   "outputs": [],
   "source": [
    "from tensorflow.keras.models import load_model\n",
    "\n",
    "basica = load_model('Modelo_Básico_CNN.h5')\n",
    "basica_aug_reg = load_model('Modelo_Reg_Aug_CNN.h5')\n",
    "transfer = load_model('Modelo_Transfer_Básico.h5')\n",
    "transfer_aug_red = load_model('Modelo_Transfer_Reg_Aug.h5')\n",
    "transfer_fine = load_model('Modelo_Transfer_Fine.h5')"
   ]
  },
  {
   "cell_type": "code",
   "execution_count": 44,
   "metadata": {},
   "outputs": [
    {
     "name": "stdout",
     "output_type": "stream",
     "text": [
      "648/648 [==============================] - 1s 1ms/sample - loss: 1.3061 - accuracy: 0.6775\n",
      "Acurácia no Teste: 0.6774691343307495\n",
      "Loss no Teste: 1.306059303475015\n"
     ]
    }
   ],
   "source": [
    "pred = basica.evaluate(test_imgs_scaled, test_labels_enc)\n",
    "print('Acurácia no Teste: {}'.format(pred[1]))\n",
    "print('Loss no Teste: {}'.format(pred[0]))"
   ]
  },
  {
   "cell_type": "markdown",
   "metadata": {},
   "source": [
    "&emsp;A rede básica de CNN nos proporcionou uma acurácia de 67.7%, bastante razoável até para um dataset complicado como este, mas abaixo do esperado, vamos ver o próximo."
   ]
  },
  {
   "cell_type": "code",
   "execution_count": 45,
   "metadata": {},
   "outputs": [
    {
     "name": "stdout",
     "output_type": "stream",
     "text": [
      "648/648 [==============================] - 1s 2ms/sample - loss: 0.8273 - accuracy: 0.7500\n",
      "Acurácia no Teste: 0.75\n",
      "Loss no Teste: 0.8272964586446314\n"
     ]
    }
   ],
   "source": [
    "pred = basica_aug_reg.evaluate(test_imgs_scaled, test_labels_enc)\n",
    "print('Acurácia no Teste: {}'.format(pred[1]))\n",
    "print('Loss no Teste: {}'.format(pred[0]))"
   ]
  },
  {
   "cell_type": "markdown",
   "metadata": {},
   "source": [
    "&emsp;Nossa tentativa de aumentar o desempenho evitando o overfit da rede funcionou bem e nos deu um ganho de 8% no teste, que é muito bom, lembrando que quando mais alto o desempenho, mais vale 1% de aumento. Ainda assim ainda não fizemos o transfer, vamos ver como ele foi:\n",
    "Ps: Eu re-executei a vgg pois alteramos o objeto ao longo do código então para avaliar corretamente só copiei as células anteriores, nada de novo."
   ]
  },
  {
   "cell_type": "code",
   "execution_count": 46,
   "metadata": {},
   "outputs": [
    {
     "name": "stdout",
     "output_type": "stream",
     "text": [
      "648/648 [==============================] - 0s 289us/sample - loss: 1.5908 - accuracy: 0.7253\n",
      "Acurácia no Teste: 0.7253086566925049\n",
      "Loss no Teste: 1.5908256401250391\n"
     ]
    }
   ],
   "source": [
    "input_shape = (100, 100, 3)\n",
    "vgg = vgg16.VGG16(include_top=False,  #Parâmetro responsável por incluir ou descartar as camadas Fully-connected\n",
    "                  weights='imagenet', \n",
    "                  input_shape=input_shape)\n",
    "\n",
    "saida = vgg.layers[-1].output           #Última camada presente no nosso modelo\n",
    "saida = tensorflow.keras.layers.Flatten()(saida)  \n",
    "vgg_model = Model(vgg.input, saida)    #Concatenando o modelo que temos com o *flatten*\n",
    "\n",
    "vgg_model.trainable = False\n",
    "for layer in vgg_model.layers:\n",
    "    layer.trainable = False\n",
    "\n",
    "test_vgg = passar_pela_vgg(vgg_model, test_imgs_scaled)\n",
    "\n",
    "pred = transfer.evaluate(test_vgg, test_labels_enc)\n",
    "print('Acurácia no Teste: {}'.format(pred[1]))\n",
    "print('Loss no Teste: {}'.format(pred[0]))"
   ]
  },
  {
   "cell_type": "markdown",
   "metadata": {},
   "source": [
    "&emsp;Um transfer puro, sem augumentation e *Off the shelf features* já nos deu um resultado robusto no teste de 72,5% de acurácia, lembrando que aqui também houve overfitting, então tentamos melhorar o desempenho com augumentation, nesse caso realmente não consegui treinar a rede muito por conta do meu computador, mas vamos lá:"
   ]
  },
  {
   "cell_type": "code",
   "execution_count": 47,
   "metadata": {},
   "outputs": [
    {
     "name": "stdout",
     "output_type": "stream",
     "text": [
      "648/648 [==============================] - 28s 44ms/sample - loss: 0.6420 - accuracy: 0.7623\n",
      "Acurácia no Teste: 0.7623456716537476\n",
      "Loss no Teste: 0.6420142312108734\n"
     ]
    }
   ],
   "source": [
    "pred = transfer_aug_red.evaluate(test_imgs_scaled, test_labels_enc)\n",
    "print('Acurácia no Teste: {}'.format(pred[1]))\n",
    "print('Loss no Teste: {}'.format(pred[0]))"
   ]
  },
  {
   "cell_type": "markdown",
   "metadata": {},
   "source": [
    "&emsp;Este transfer nos proporcionou um aumento até mesmo em relação ao modelo de CNN com augumentation e regularização, chegando à 76%. Mas ainda não conseguimos o melhor resultado possível, vamos ver como o *fine-tuning*, aliado às outras técnicas conseguiu performar:"
   ]
  },
  {
   "cell_type": "code",
   "execution_count": 48,
   "metadata": {},
   "outputs": [
    {
     "name": "stdout",
     "output_type": "stream",
     "text": [
      "648/648 [==============================] - 33s 50ms/sample - loss: 0.7657 - accuracy: 0.8318\n",
      "Acurácia no Teste: 0.8317901492118835\n",
      "Loss no Teste: 0.7657408302212939\n"
     ]
    }
   ],
   "source": [
    "pred = transfer_fine.evaluate(test_imgs_scaled, test_labels_enc)\n",
    "print('Acurácia no Teste: {}'.format(pred[1]))\n",
    "print('Loss no Teste: {}'.format(pred[0]))"
   ]
  },
  {
   "cell_type": "markdown",
   "metadata": {},
   "source": [
    "&emsp;Simplesmente chegamos à 83% de acurácia em apenas 10 epochs, com muito espaço pra aumentar esse resultado, tanto no tempo de treino, quanto no *learning rate* quanto treinando mais camadas de convolução. Realmente se trata de um modelo extremamente robusto, um ganho total de 26% em relação ao resultado original é muito significativo. Entendem agora o porquê o *transfer learning* é um tópico tão relevante?"
   ]
  },
  {
   "cell_type": "markdown",
   "metadata": {},
   "source": [
    "&emsp;Gostaria de agradecer Dipanjan Sakar por seu post incrivelmente completo no Medium: [A Comprehensive Hands-on Guide to Transfer Learning with Real-World Applications in Deep Learning](https://towardsdatascience.com/a-comprehensive-hands-on-guide-to-transfer-learning-with-real-world-applications-in-deep-learning-212bf3b2f27a), uma vez que todo o texto aqui exposto foi baseado no que ele escreveu e no caminho lógico que desenvolveu, bem como seu exemplo prático. Se você chegou até aqui e ainda está interessado no tema, recomendo a leitura, muitos assuntos mais secundários eu não adicionei mas ele desenvolve."
   ]
  },
  {
   "cell_type": "markdown",
   "metadata": {},
   "source": []
  }
 ],
 "metadata": {
  "kernelspec": {
   "display_name": "Python 3",
   "language": "python",
   "name": "python3"
  },
  "language_info": {
   "codemirror_mode": {
    "name": "ipython",
    "version": 3
   },
   "file_extension": ".py",
   "mimetype": "text/x-python",
   "name": "python",
   "nbconvert_exporter": "python",
   "pygments_lexer": "ipython3",
   "version": "3.7.6"
  }
 },
 "nbformat": 4,
 "nbformat_minor": 2
}
